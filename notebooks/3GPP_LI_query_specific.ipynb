{
 "cells": [
  {
   "cell_type": "code",
   "execution_count": 1,
   "id": "illegal-product",
   "metadata": {},
   "outputs": [],
   "source": [
    "import datetime\n",
    "import pandas as pd\n",
    "import numpy as np\n",
    "from collections import defaultdict\n",
    "from typing import Dict, List, Optional, Tuple, Union\n",
    "\n",
    "from pylab import cm\n",
    "import matplotlib as mpl\n",
    "import matplotlib.pyplot as plt\n",
    "from matplotlib.pyplot import figure\n",
    "import seaborn as sns\n",
    "\n",
    "from bigbang.analysis.listserv import ListservMailList\n",
    "#from bigbang.bigbang_io import pandas_dataframe_to_mbox\n",
    "\n",
    "from tgpp.config.config import CONFIG\n",
    "import tgpp.ingress.queries as Queries\n",
    "from tgpp.ingress import organizations as ORGA\n",
    "\n",
    "plt.style.use(\"./publication_jcap.mplstyle\")"
   ]
  },
  {
   "cell_type": "code",
   "execution_count": 2,
   "id": "8ab046e8-39d9-4552-b621-371cdcee231b",
   "metadata": {},
   "outputs": [],
   "source": [
    "def format_dictionary(dic: dict, threshold: Union[int, float]) -> dict:\n",
    "    \"\"\"\n",
    "    Format dictionary for pie plot.\n",
    "    \"\"\"\n",
    "    dic_sorted = {\n",
    "        list(dic.keys())[indx]: list(dic.values())[indx]\n",
    "        for indx in np.argsort(list(dic.values()))[::-1]\n",
    "    }\n",
    "\n",
    "    percentages = ListservMailList.to_percentage(list(dic_sorted.values()))\n",
    "    dic_sorted = {key: value for key, value in zip(dic_sorted.keys(), percentages)}\n",
    "\n",
    "    dic_filtered = {\"others\": 0}\n",
    "    \n",
    "    if isinstance(threshold, int):\n",
    "        for index, (key, value) in enumerate(dic_sorted.items()):\n",
    "            if index <= threshold:\n",
    "                dic_filtered[key] = value\n",
    "            else:\n",
    "                dic_filtered[\"others\"] += value\n",
    "    elif isinstance(threshold, float):\n",
    "        for key, value in dic_sorted.items():\n",
    "            if value >= threshold:\n",
    "                dic_filtered[key] = value\n",
    "            else:\n",
    "                dic_filtered[\"others\"] += value\n",
    "    return dic_filtered"
   ]
  },
  {
   "cell_type": "markdown",
   "id": "d68850c6-d66d-4f86-9960-3a2ab40a2774",
   "metadata": {},
   "source": [
    "## Load data"
   ]
  },
  {
   "cell_type": "code",
   "execution_count": 3,
   "id": "2900fe3f-d576-4a1a-9443-f50ab8330d2c",
   "metadata": {},
   "outputs": [],
   "source": [
    "# Load data on organisations in 3GPP\n",
    "\n",
    "df_orgcat = ORGA.load_data()\n",
    "df_orgcat = ORGA.expand_rows_with_multiple_entries(df_orgcat, column='email domain names')\n",
    "df_orgcat = ORGA.assign_parent_nationality(df_orgcat)\n",
    "df_orgcat = ORGA.remove_leading_and_trailing_whitespaces(df_orgcat)\n",
    "\n",
    "# choose columns of interest\n",
    "df_nation = df_orgcat[[\n",
    "    \"name\",\n",
    "    \"nationality\",\n",
    "    \"email domain names\",\n",
    "]]\n",
    "# filter out all non-empty cells\n",
    "df_nation = df_nation.dropna()"
   ]
  },
  {
   "cell_type": "code",
   "execution_count": 4,
   "id": "f8e33566-adcc-46fb-a26b-d7e94265e1cf",
   "metadata": {},
   "outputs": [],
   "source": [
    "# Load Target-set\n",
    "\n",
    "mlist_name = \"3GPP_TSG_SA_WG3_LI\"\n",
    "\n",
    "# load target-set (Tset)\n",
    "tset = pd.read_hdf(\n",
    "    CONFIG.folder_target_set + f\"{mlist_name}.h5\",\n",
    "    key=\"df\",\n",
    "    header=0,\n",
    "    index_col=0,\n",
    ")\n",
    "tset = tset.dropna()\n",
    "tset['msg-date'] =  pd.to_datetime(tset['msg-date'], format=\"%a, %d %b %Y %H:%M:%S %z\")"
   ]
  },
  {
   "cell_type": "markdown",
   "id": "d7ca5f4d-753f-44fb-97d3-e3c3911c1eb4",
   "metadata": {},
   "source": [
    "## Select keyterm & Add nationality"
   ]
  },
  {
   "cell_type": "code",
   "execution_count": 5,
   "id": "24d2d1ff-7e05-49fb-a125-20114c6a70da",
   "metadata": {},
   "outputs": [],
   "source": [
    "keyterm = \"sentence rephrase\"\n",
    "col_with_keyterm = [col for col in tset.columns if keyterm in col]\n",
    "# remove rows containing NaNs in keyterm-column\n",
    "tset_kt = tset[tset[col_with_keyterm].sum(axis=1) != 0]\n",
    "tset_kt = tset_kt.fillna(0)"
   ]
  },
  {
   "cell_type": "code",
   "execution_count": 6,
   "id": "fceabb1f-5743-4740-a4ae-7e5e99f714dd",
   "metadata": {},
   "outputs": [],
   "source": [
    "# Add nationality to sender in target-set\n",
    "\n",
    "tset_kt['msg-nationality'] = np.nan\n",
    "for idx, row in tset_kt.iterrows():\n",
    "    _, _, domain = ListservMailList.get_name_localpart_domain(row['msg-from'])\n",
    "    nationality = df_nation[df_nation['email domain names'] == domain]['nationality'].values\n",
    "    if len(nationality) > 0:\n",
    "        # TODO: there are some domain names associated to multiple nationailies\n",
    "        tset_kt.loc[idx, 'msg-nationality'] = nationality[0]\n",
    "tset_kt = tset_kt.dropna()\n",
    "tset_kt = Queries.remove_text_wo_query(tset_kt)\n",
    "tset_kt = Queries.remove_query_wo_text(tset_kt)"
   ]
  },
  {
   "cell_type": "markdown",
   "id": "f8d7bc3e-ef35-49d1-984f-609264ea2e71",
   "metadata": {},
   "source": [
    "## Split into header, body and attachment"
   ]
  },
  {
   "cell_type": "code",
   "execution_count": 7,
   "id": "542a7e15-df52-46cc-84f9-d0c1e02dc40f",
   "metadata": {},
   "outputs": [],
   "source": [
    "# get Tset Email header fields\n",
    "non_query_columns = [col for col in tset_kt.columns if col.startswith('msg-')]\n",
    "df_msg = tset_kt.loc[:, tset_kt.columns.isin(non_query_columns)]\n",
    "\n",
    "# get Tset Email keyterms\n",
    "df_qu = tset_kt.loc[:, ~tset_kt.columns.isin(non_query_columns)]\n",
    "body_query_columns = [col for col in df_qu.columns if col.startswith('body-')]\n",
    "attachment_query_columns = [col for col in df_qu.columns if col.startswith('attachment-')]\n",
    "df_qu_bo = tset_kt.loc[:, body_query_columns]\n",
    "df_qu_at = tset_kt.loc[:, attachment_query_columns]\n",
    "\n",
    "df_qu_bo = Queries.remove_text_wo_query(df_qu_bo, reset_index=False)\n",
    "df_qu_bo = Queries.remove_query_wo_text(df_qu_bo, reset_index=False)\n",
    "\n",
    "df_qu_at = Queries.remove_text_wo_query(df_qu_at, reset_index=False)\n",
    "df_qu_at = Queries.remove_query_wo_text(df_qu_at, reset_index=False)"
   ]
  },
  {
   "cell_type": "code",
   "execution_count": 8,
   "id": "e6eba489-4278-4bc9-8153-3f6bdbc874f8",
   "metadata": {},
   "outputs": [
    {
     "data": {
      "text/html": [
       "<div>\n",
       "<style scoped>\n",
       "    .dataframe tbody tr th:only-of-type {\n",
       "        vertical-align: middle;\n",
       "    }\n",
       "\n",
       "    .dataframe tbody tr th {\n",
       "        vertical-align: top;\n",
       "    }\n",
       "\n",
       "    .dataframe thead th {\n",
       "        text-align: right;\n",
       "    }\n",
       "</style>\n",
       "<table border=\"1\" class=\"dataframe\">\n",
       "  <thead>\n",
       "    <tr style=\"text-align: right;\">\n",
       "      <th></th>\n",
       "    </tr>\n",
       "  </thead>\n",
       "  <tbody>\n",
       "  </tbody>\n",
       "</table>\n",
       "</div>"
      ],
      "text/plain": [
       "Empty DataFrame\n",
       "Columns: []\n",
       "Index: []"
      ]
     },
     "execution_count": 8,
     "metadata": {},
     "output_type": "execute_result"
    }
   ],
   "source": [
    "df_qu_bo"
   ]
  },
  {
   "cell_type": "code",
   "execution_count": 9,
   "id": "c426d272-5770-4220-b124-fe7bd639f72f",
   "metadata": {},
   "outputs": [
    {
     "data": {
      "text/html": [
       "<div>\n",
       "<style scoped>\n",
       "    .dataframe tbody tr th:only-of-type {\n",
       "        vertical-align: middle;\n",
       "    }\n",
       "\n",
       "    .dataframe tbody tr th {\n",
       "        vertical-align: top;\n",
       "    }\n",
       "\n",
       "    .dataframe thead th {\n",
       "        text-align: right;\n",
       "    }\n",
       "</style>\n",
       "<table border=\"1\" class=\"dataframe\">\n",
       "  <thead>\n",
       "    <tr style=\"text-align: right;\">\n",
       "      <th></th>\n",
       "    </tr>\n",
       "  </thead>\n",
       "  <tbody>\n",
       "  </tbody>\n",
       "</table>\n",
       "</div>"
      ],
      "text/plain": [
       "Empty DataFrame\n",
       "Columns: []\n",
       "Index: []"
      ]
     },
     "execution_count": 9,
     "metadata": {},
     "output_type": "execute_result"
    }
   ],
   "source": [
    "df_qu_at"
   ]
  },
  {
   "cell_type": "code",
   "execution_count": 10,
   "id": "92ebd383-be7d-406e-9660-0473be49b45e",
   "metadata": {},
   "outputs": [
    {
     "ename": "KeyError",
     "evalue": "2",
     "output_type": "error",
     "traceback": [
      "\u001b[0;31m---------------------------------------------------------------------------\u001b[0m",
      "\u001b[0;31mValueError\u001b[0m                                Traceback (most recent call last)",
      "File \u001b[0;32m/opt/homebrew/lib/python3.10/site-packages/pandas/core/indexes/range.py:385\u001b[0m, in \u001b[0;36mRangeIndex.get_loc\u001b[0;34m(self, key, method, tolerance)\u001b[0m\n\u001b[1;32m    384\u001b[0m \u001b[38;5;28;01mtry\u001b[39;00m:\n\u001b[0;32m--> 385\u001b[0m     \u001b[38;5;28;01mreturn\u001b[39;00m \u001b[38;5;28;43mself\u001b[39;49m\u001b[38;5;241;43m.\u001b[39;49m\u001b[43m_range\u001b[49m\u001b[38;5;241;43m.\u001b[39;49m\u001b[43mindex\u001b[49m\u001b[43m(\u001b[49m\u001b[43mnew_key\u001b[49m\u001b[43m)\u001b[49m\n\u001b[1;32m    386\u001b[0m \u001b[38;5;28;01mexcept\u001b[39;00m \u001b[38;5;167;01mValueError\u001b[39;00m \u001b[38;5;28;01mas\u001b[39;00m err:\n",
      "\u001b[0;31mValueError\u001b[0m: 2 is not in range",
      "\nThe above exception was the direct cause of the following exception:\n",
      "\u001b[0;31mKeyError\u001b[0m                                  Traceback (most recent call last)",
      "Input \u001b[0;32mIn [10]\u001b[0m, in \u001b[0;36m<cell line: 1>\u001b[0;34m()\u001b[0m\n\u001b[0;32m----> 1\u001b[0m \u001b[43mtset_kt\u001b[49m\u001b[38;5;241;43m.\u001b[39;49m\u001b[43mloc\u001b[49m\u001b[43m[\u001b[49m\u001b[38;5;241;43m2\u001b[39;49m\u001b[43m,\u001b[49m\u001b[43m \u001b[49m\u001b[38;5;124;43m'\u001b[39;49m\u001b[38;5;124;43mmsg-archived-at\u001b[39;49m\u001b[38;5;124;43m'\u001b[39;49m\u001b[43m]\u001b[49m\n",
      "File \u001b[0;32m/opt/homebrew/lib/python3.10/site-packages/pandas/core/indexing.py:960\u001b[0m, in \u001b[0;36m_LocationIndexer.__getitem__\u001b[0;34m(self, key)\u001b[0m\n\u001b[1;32m    958\u001b[0m     key \u001b[38;5;241m=\u001b[39m \u001b[38;5;28mtuple\u001b[39m(com\u001b[38;5;241m.\u001b[39mapply_if_callable(x, \u001b[38;5;28mself\u001b[39m\u001b[38;5;241m.\u001b[39mobj) \u001b[38;5;28;01mfor\u001b[39;00m x \u001b[38;5;129;01min\u001b[39;00m key)\n\u001b[1;32m    959\u001b[0m     \u001b[38;5;28;01mif\u001b[39;00m \u001b[38;5;28mself\u001b[39m\u001b[38;5;241m.\u001b[39m_is_scalar_access(key):\n\u001b[0;32m--> 960\u001b[0m         \u001b[38;5;28;01mreturn\u001b[39;00m \u001b[38;5;28;43mself\u001b[39;49m\u001b[38;5;241;43m.\u001b[39;49m\u001b[43mobj\u001b[49m\u001b[38;5;241;43m.\u001b[39;49m\u001b[43m_get_value\u001b[49m\u001b[43m(\u001b[49m\u001b[38;5;241;43m*\u001b[39;49m\u001b[43mkey\u001b[49m\u001b[43m,\u001b[49m\u001b[43m \u001b[49m\u001b[43mtakeable\u001b[49m\u001b[38;5;241;43m=\u001b[39;49m\u001b[38;5;28;43mself\u001b[39;49m\u001b[38;5;241;43m.\u001b[39;49m\u001b[43m_takeable\u001b[49m\u001b[43m)\u001b[49m\n\u001b[1;32m    961\u001b[0m     \u001b[38;5;28;01mreturn\u001b[39;00m \u001b[38;5;28mself\u001b[39m\u001b[38;5;241m.\u001b[39m_getitem_tuple(key)\n\u001b[1;32m    962\u001b[0m \u001b[38;5;28;01melse\u001b[39;00m:\n\u001b[1;32m    963\u001b[0m     \u001b[38;5;66;03m# we by definition only have the 0th axis\u001b[39;00m\n",
      "File \u001b[0;32m/opt/homebrew/lib/python3.10/site-packages/pandas/core/frame.py:3622\u001b[0m, in \u001b[0;36mDataFrame._get_value\u001b[0;34m(self, index, col, takeable)\u001b[0m\n\u001b[1;32m   3616\u001b[0m engine \u001b[38;5;241m=\u001b[39m \u001b[38;5;28mself\u001b[39m\u001b[38;5;241m.\u001b[39mindex\u001b[38;5;241m.\u001b[39m_engine\n\u001b[1;32m   3618\u001b[0m \u001b[38;5;28;01mif\u001b[39;00m \u001b[38;5;129;01mnot\u001b[39;00m \u001b[38;5;28misinstance\u001b[39m(\u001b[38;5;28mself\u001b[39m\u001b[38;5;241m.\u001b[39mindex, MultiIndex):\n\u001b[1;32m   3619\u001b[0m     \u001b[38;5;66;03m# CategoricalIndex: Trying to use the engine fastpath may give incorrect\u001b[39;00m\n\u001b[1;32m   3620\u001b[0m     \u001b[38;5;66;03m#  results if our categories are integers that dont match our codes\u001b[39;00m\n\u001b[1;32m   3621\u001b[0m     \u001b[38;5;66;03m# IntervalIndex: IntervalTree has no get_loc\u001b[39;00m\n\u001b[0;32m-> 3622\u001b[0m     row \u001b[38;5;241m=\u001b[39m \u001b[38;5;28;43mself\u001b[39;49m\u001b[38;5;241;43m.\u001b[39;49m\u001b[43mindex\u001b[49m\u001b[38;5;241;43m.\u001b[39;49m\u001b[43mget_loc\u001b[49m\u001b[43m(\u001b[49m\u001b[43mindex\u001b[49m\u001b[43m)\u001b[49m\n\u001b[1;32m   3623\u001b[0m     \u001b[38;5;28;01mreturn\u001b[39;00m series\u001b[38;5;241m.\u001b[39m_values[row]\n\u001b[1;32m   3625\u001b[0m \u001b[38;5;66;03m# For MultiIndex going through engine effectively restricts us to\u001b[39;00m\n\u001b[1;32m   3626\u001b[0m \u001b[38;5;66;03m#  same-length tuples; see test_get_set_value_no_partial_indexing\u001b[39;00m\n",
      "File \u001b[0;32m/opt/homebrew/lib/python3.10/site-packages/pandas/core/indexes/range.py:387\u001b[0m, in \u001b[0;36mRangeIndex.get_loc\u001b[0;34m(self, key, method, tolerance)\u001b[0m\n\u001b[1;32m    385\u001b[0m         \u001b[38;5;28;01mreturn\u001b[39;00m \u001b[38;5;28mself\u001b[39m\u001b[38;5;241m.\u001b[39m_range\u001b[38;5;241m.\u001b[39mindex(new_key)\n\u001b[1;32m    386\u001b[0m     \u001b[38;5;28;01mexcept\u001b[39;00m \u001b[38;5;167;01mValueError\u001b[39;00m \u001b[38;5;28;01mas\u001b[39;00m err:\n\u001b[0;32m--> 387\u001b[0m         \u001b[38;5;28;01mraise\u001b[39;00m \u001b[38;5;167;01mKeyError\u001b[39;00m(key) \u001b[38;5;28;01mfrom\u001b[39;00m \u001b[38;5;21;01merr\u001b[39;00m\n\u001b[1;32m    388\u001b[0m \u001b[38;5;28mself\u001b[39m\u001b[38;5;241m.\u001b[39m_check_indexing_error(key)\n\u001b[1;32m    389\u001b[0m \u001b[38;5;28;01mraise\u001b[39;00m \u001b[38;5;167;01mKeyError\u001b[39;00m(key)\n",
      "\u001b[0;31mKeyError\u001b[0m: 2"
     ]
    }
   ],
   "source": [
    "tset_kt.loc[2, 'msg-archived-at']"
   ]
  },
  {
   "cell_type": "code",
   "execution_count": null,
   "id": "5653b591-a64a-45b9-afff-8e04b9cf68a3",
   "metadata": {},
   "outputs": [],
   "source": [
    "tset[['body- protect ', 'msg-archived-at']].loc[3, :].values"
   ]
  },
  {
   "cell_type": "code",
   "execution_count": null,
   "id": "9082f90b-69a8-46c6-aa4c-6d91c7e4c1e9",
   "metadata": {},
   "outputs": [],
   "source": []
  }
 ],
 "metadata": {
  "kernelspec": {
   "display_name": "Python 3 (ipykernel)",
   "language": "python",
   "name": "python3"
  },
  "language_info": {
   "codemirror_mode": {
    "name": "ipython",
    "version": 3
   },
   "file_extension": ".py",
   "mimetype": "text/x-python",
   "name": "python",
   "nbconvert_exporter": "python",
   "pygments_lexer": "ipython3",
   "version": "3.10.2"
  }
 },
 "nbformat": 4,
 "nbformat_minor": 5
}
