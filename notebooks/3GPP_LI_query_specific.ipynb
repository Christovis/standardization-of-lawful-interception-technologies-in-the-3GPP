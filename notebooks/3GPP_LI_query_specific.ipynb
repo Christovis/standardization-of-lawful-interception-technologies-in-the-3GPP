{
 "cells": [
  {
   "cell_type": "code",
   "execution_count": 1,
   "id": "illegal-product",
   "metadata": {},
   "outputs": [],
   "source": [
    "import datetime\n",
    "import pandas as pd\n",
    "import numpy as np\n",
    "from collections import defaultdict\n",
    "from typing import Dict, List, Optional, Tuple, Union\n",
    "\n",
    "from pylab import cm\n",
    "import matplotlib as mpl\n",
    "import matplotlib.pyplot as plt\n",
    "from matplotlib.pyplot import figure\n",
    "import seaborn as sns\n",
    "\n",
    "from bigbang.analysis.listserv import ListservMailList\n",
    "#from bigbang.bigbang_io import pandas_dataframe_to_mbox\n",
    "\n",
    "from tgpp.config.config import CONFIG\n",
    "import tgpp.ingress.queries as Queries\n",
    "\n",
    "plt.style.use(\"./publication_jcap.mplstyle\")"
   ]
  },
  {
   "cell_type": "code",
   "execution_count": 2,
   "id": "8ab046e8-39d9-4552-b621-371cdcee231b",
   "metadata": {},
   "outputs": [],
   "source": [
    "def format_dictionary(dic: dict, threshold: Union[int, float]) -> dict:\n",
    "    \"\"\"\n",
    "    Format dictionary for pie plot.\n",
    "    \"\"\"\n",
    "    dic_sorted = {\n",
    "        list(dic.keys())[indx]: list(dic.values())[indx]\n",
    "        for indx in np.argsort(list(dic.values()))[::-1]\n",
    "    }\n",
    "\n",
    "    percentages = ListservMailList.to_percentage(list(dic_sorted.values()))\n",
    "    dic_sorted = {key: value for key, value in zip(dic_sorted.keys(), percentages)}\n",
    "\n",
    "    dic_filtered = {\"others\": 0}\n",
    "    \n",
    "    if isinstance(threshold, int):\n",
    "        for index, (key, value) in enumerate(dic_sorted.items()):\n",
    "            if index <= threshold:\n",
    "                dic_filtered[key] = value\n",
    "            else:\n",
    "                dic_filtered[\"others\"] += value\n",
    "    elif isinstance(threshold, float):\n",
    "        for key, value in dic_sorted.items():\n",
    "            if value >= threshold:\n",
    "                dic_filtered[key] = value\n",
    "            else:\n",
    "                dic_filtered[\"others\"] += value\n",
    "    return dic_filtered"
   ]
  },
  {
   "cell_type": "markdown",
   "id": "d68850c6-d66d-4f86-9960-3a2ab40a2774",
   "metadata": {},
   "source": [
    "## Load data"
   ]
  },
  {
   "cell_type": "code",
   "execution_count": 3,
   "id": "2900fe3f-d576-4a1a-9443-f50ab8330d2c",
   "metadata": {},
   "outputs": [],
   "source": [
    "# Load data on organisations in 3GPP\n",
    "\n",
    "file_path = \"/Users/christovis/Documents/InternetGovernance/bigbang/examples/organizations/organization_categories.csv\"\n",
    "df_organization_categories = pd.read_csv(\n",
    "    file_path,\n",
    "    sep=\",\",\n",
    "    header=0,\n",
    "    index_col=False,\n",
    ")\n",
    "# choose columns of interest\n",
    "df_nation = df_organization_categories[[\n",
    "    \"name\",\n",
    "    \"nationality\",\n",
    "    \"email domain names\",\n",
    "]]\n",
    "# filter out all non-empty cells\n",
    "df_nation = df_nation.dropna()\n",
    "\n",
    "indices = [\n",
    "    idx\n",
    "    for idx, row in df_nation.iterrows()\n",
    "    if len(row['email domain names'].split(',')) > 1\n",
    "]    \n",
    "\n",
    "df_nation_multi = df_nation.loc[indices]\n",
    "df_nation_single = df_nation.drop(indices)\n",
    "\n",
    "_df_nation_multi = defaultdict(list)\n",
    "for idx, row in df_nation_multi.iterrows():\n",
    "    _row = row\n",
    "    email_domains = row['email domain names'].split(',')\n",
    "    for email_domain in email_domains:\n",
    "        _row['email domain names'] = email_domain.strip()\n",
    "        for key, value in _row.to_dict().items():\n",
    "            _df_nation_multi[key].append(value)\n",
    "df_nation = pd.concat([df_nation_single, pd.DataFrame.from_dict(_df_nation_multi)], ignore_index=True)"
   ]
  },
  {
   "cell_type": "code",
   "execution_count": 56,
   "id": "f8e33566-adcc-46fb-a26b-d7e94265e1cf",
   "metadata": {},
   "outputs": [],
   "source": [
    "# Load Target-set\n",
    "\n",
    "mlist_name = \"3GPP_TSG_SA_WG3_LI\"\n",
    "\n",
    "# load target-set (Tset)\n",
    "tset = pd.read_hdf(\n",
    "    CONFIG.folder_target_set + f\"{mlist_name}.h5\",\n",
    "    key=\"df\",\n",
    "    header=0,\n",
    "    index_col=0,\n",
    ")\n",
    "tset = tset.dropna()\n",
    "tset['msg-date'] =  pd.to_datetime(tset['msg-date'], format=\"%a, %d %b %Y %H:%M:%S %z\")"
   ]
  },
  {
   "cell_type": "markdown",
   "id": "d7ca5f4d-753f-44fb-97d3-e3c3911c1eb4",
   "metadata": {},
   "source": [
    "## Select keyterm & Add nationality"
   ]
  },
  {
   "cell_type": "code",
   "execution_count": 57,
   "id": "24d2d1ff-7e05-49fb-a125-20114c6a70da",
   "metadata": {},
   "outputs": [],
   "source": [
    "keyterm = \"malici\"\n",
    "col_with_keyterm = [col for col in tset.columns if keyterm in col]\n",
    "# remove rows containing NaNs in keyterm-column\n",
    "tset_kt = tset[tset[col_with_keyterm].sum(axis=1) != 0]\n",
    "tset_kt = tset_kt.fillna(0)"
   ]
  },
  {
   "cell_type": "code",
   "execution_count": 73,
   "id": "fceabb1f-5743-4740-a4ae-7e5e99f714dd",
   "metadata": {},
   "outputs": [],
   "source": [
    "# Add nationality to sender in target-set\n",
    "\n",
    "tset_kt['msg-nationality'] = np.nan\n",
    "for idx, row in tset_kt.iterrows():\n",
    "    _, _, domain = ListservMailList.get_name_localpart_domain(row['msg-from'])\n",
    "    nationality = df_nation[df_nation['email domain names'] == domain]['nationality'].values\n",
    "    if len(nationality) > 0:\n",
    "        # TODO: there are some domain names associated to multiple nationailies\n",
    "        tset_kt.loc[idx, 'msg-nationality'] = nationality[0]\n",
    "tset_kt = tset_kt.dropna()\n",
    "tset_kt = Queries.remove_text_wo_query(tset_kt)\n",
    "tset_kt = Queries.remove_query_wo_text(tset_kt)"
   ]
  },
  {
   "cell_type": "markdown",
   "id": "f8d7bc3e-ef35-49d1-984f-609264ea2e71",
   "metadata": {},
   "source": [
    "## Split into header, body and attachment"
   ]
  },
  {
   "cell_type": "code",
   "execution_count": 65,
   "id": "542a7e15-df52-46cc-84f9-d0c1e02dc40f",
   "metadata": {},
   "outputs": [],
   "source": [
    "# get Tset Email header fields\n",
    "non_query_columns = [col for col in tset_kt.columns if col.startswith('msg-')]\n",
    "df_msg = tset_kt.loc[:, tset_kt.columns.isin(non_query_columns)]\n",
    "\n",
    "# get Tset Email keyterms\n",
    "df_qu = tset_kt.loc[:, ~tset_kt.columns.isin(non_query_columns)]\n",
    "body_query_columns = [col for col in df_qu.columns if col.startswith('body-')]\n",
    "attachment_query_columns = [col for col in df_qu.columns if col.startswith('attachment-')]\n",
    "df_qu_bo = tset_kt.loc[:, body_query_columns]\n",
    "df_qu_at = tset_kt.loc[:, attachment_query_columns]\n",
    "\n",
    "df_qu_bo = Queries.remove_text_wo_query(df_qu_bo, reset_index=False)\n",
    "df_qu_bo = Queries.remove_query_wo_text(df_qu_bo, reset_index=False)\n",
    "\n",
    "df_qu_at = Queries.remove_text_wo_query(df_qu_at, reset_index=False)\n",
    "df_qu_at = Queries.remove_query_wo_text(df_qu_at, reset_index=False)"
   ]
  },
  {
   "cell_type": "code",
   "execution_count": 74,
   "id": "e6eba489-4278-4bc9-8153-3f6bdbc874f8",
   "metadata": {},
   "outputs": [
    {
     "data": {
      "text/html": [
       "<div>\n",
       "<style scoped>\n",
       "    .dataframe tbody tr th:only-of-type {\n",
       "        vertical-align: middle;\n",
       "    }\n",
       "\n",
       "    .dataframe tbody tr th {\n",
       "        vertical-align: top;\n",
       "    }\n",
       "\n",
       "    .dataframe thead th {\n",
       "        text-align: right;\n",
       "    }\n",
       "</style>\n",
       "<table border=\"1\" class=\"dataframe\">\n",
       "  <thead>\n",
       "    <tr style=\"text-align: right;\">\n",
       "      <th></th>\n",
       "      <th>body- access</th>\n",
       "      <th>body- iri</th>\n",
       "      <th>body- lmisf</th>\n",
       "      <th>body- point intercept</th>\n",
       "      <th>body- protect</th>\n",
       "      <th>body- requir</th>\n",
       "    </tr>\n",
       "  </thead>\n",
       "  <tbody>\n",
       "    <tr>\n",
       "      <th>2</th>\n",
       "      <td>1</td>\n",
       "      <td>1</td>\n",
       "      <td>4</td>\n",
       "      <td>1</td>\n",
       "      <td>14</td>\n",
       "      <td>5</td>\n",
       "    </tr>\n",
       "  </tbody>\n",
       "</table>\n",
       "</div>"
      ],
      "text/plain": [
       "   body- access   body- iri   body- lmisf   body- point intercept   \\\n",
       "2              1           1             4                       1   \n",
       "\n",
       "   body- protect   body- requir   \n",
       "2              14              5  "
      ]
     },
     "execution_count": 74,
     "metadata": {},
     "output_type": "execute_result"
    }
   ],
   "source": [
    "df_qu_bo"
   ]
  },
  {
   "cell_type": "code",
   "execution_count": 75,
   "id": "c426d272-5770-4220-b124-fe7bd639f72f",
   "metadata": {},
   "outputs": [
    {
     "data": {
      "text/html": [
       "<div>\n",
       "<style scoped>\n",
       "    .dataframe tbody tr th:only-of-type {\n",
       "        vertical-align: middle;\n",
       "    }\n",
       "\n",
       "    .dataframe tbody tr th {\n",
       "        vertical-align: top;\n",
       "    }\n",
       "\n",
       "    .dataframe thead th {\n",
       "        text-align: right;\n",
       "    }\n",
       "</style>\n",
       "<table border=\"1\" class=\"dataframe\">\n",
       "  <thead>\n",
       "    <tr style=\"text-align: right;\">\n",
       "      <th></th>\n",
       "      <th>attachment- access</th>\n",
       "      <th>attachment- access gateway</th>\n",
       "      <th>attachment- access provid</th>\n",
       "      <th>attachment- agw</th>\n",
       "      <th>attachment- ap</th>\n",
       "      <th>attachment- authent</th>\n",
       "      <th>attachment- basic encod rule</th>\n",
       "      <th>attachment- ber</th>\n",
       "      <th>attachment- call session control function</th>\n",
       "      <th>attachment- cc</th>\n",
       "      <th>...</th>\n",
       "      <th>attachment- nid</th>\n",
       "      <th>attachment- poi</th>\n",
       "      <th>attachment- point intercept</th>\n",
       "      <th>attachment- protect</th>\n",
       "      <th>attachment- quic</th>\n",
       "      <th>attachment- requir</th>\n",
       "      <th>attachment- secur</th>\n",
       "      <th>attachment- surveil</th>\n",
       "      <th>attachment- tls</th>\n",
       "      <th>attachment- transport layer secur</th>\n",
       "    </tr>\n",
       "  </thead>\n",
       "  <tbody>\n",
       "    <tr>\n",
       "      <th>0</th>\n",
       "      <td>33</td>\n",
       "      <td>0</td>\n",
       "      <td>6</td>\n",
       "      <td>0</td>\n",
       "      <td>3</td>\n",
       "      <td>1</td>\n",
       "      <td>3</td>\n",
       "      <td>7</td>\n",
       "      <td>0</td>\n",
       "      <td>51</td>\n",
       "      <td>...</td>\n",
       "      <td>3</td>\n",
       "      <td>56</td>\n",
       "      <td>4</td>\n",
       "      <td>23</td>\n",
       "      <td>0</td>\n",
       "      <td>115</td>\n",
       "      <td>64</td>\n",
       "      <td>3</td>\n",
       "      <td>24</td>\n",
       "      <td>10</td>\n",
       "    </tr>\n",
       "    <tr>\n",
       "      <th>1</th>\n",
       "      <td>0</td>\n",
       "      <td>0</td>\n",
       "      <td>0</td>\n",
       "      <td>0</td>\n",
       "      <td>0</td>\n",
       "      <td>0</td>\n",
       "      <td>0</td>\n",
       "      <td>4</td>\n",
       "      <td>0</td>\n",
       "      <td>7</td>\n",
       "      <td>...</td>\n",
       "      <td>0</td>\n",
       "      <td>0</td>\n",
       "      <td>0</td>\n",
       "      <td>7</td>\n",
       "      <td>1</td>\n",
       "      <td>15</td>\n",
       "      <td>8</td>\n",
       "      <td>0</td>\n",
       "      <td>0</td>\n",
       "      <td>0</td>\n",
       "    </tr>\n",
       "    <tr>\n",
       "      <th>2</th>\n",
       "      <td>4</td>\n",
       "      <td>1</td>\n",
       "      <td>0</td>\n",
       "      <td>5</td>\n",
       "      <td>1</td>\n",
       "      <td>1</td>\n",
       "      <td>0</td>\n",
       "      <td>0</td>\n",
       "      <td>1</td>\n",
       "      <td>0</td>\n",
       "      <td>...</td>\n",
       "      <td>0</td>\n",
       "      <td>0</td>\n",
       "      <td>0</td>\n",
       "      <td>8</td>\n",
       "      <td>0</td>\n",
       "      <td>3</td>\n",
       "      <td>15</td>\n",
       "      <td>0</td>\n",
       "      <td>0</td>\n",
       "      <td>0</td>\n",
       "    </tr>\n",
       "  </tbody>\n",
       "</table>\n",
       "<p>3 rows × 59 columns</p>\n",
       "</div>"
      ],
      "text/plain": [
       "   attachment- access   attachment- access gateway   \\\n",
       "0                   33                            0   \n",
       "1                    0                            0   \n",
       "2                    4                            1   \n",
       "\n",
       "   attachment- access provid   attachment- agw   attachment- ap   \\\n",
       "0                           6                 0                3   \n",
       "1                           0                 0                0   \n",
       "2                           0                 5                1   \n",
       "\n",
       "   attachment- authent   attachment- basic encod rule   attachment- ber   \\\n",
       "0                     1                              3                 7   \n",
       "1                     0                              0                 4   \n",
       "2                     1                              0                 0   \n",
       "\n",
       "   attachment- call session control function   attachment- cc   ...  \\\n",
       "0                                           0               51  ...   \n",
       "1                                           0                7  ...   \n",
       "2                                           1                0  ...   \n",
       "\n",
       "   attachment- nid   attachment- poi   attachment- point intercept   \\\n",
       "0                 3                56                             4   \n",
       "1                 0                 0                             0   \n",
       "2                 0                 0                             0   \n",
       "\n",
       "   attachment- protect   attachment- quic   attachment- requir   \\\n",
       "0                    23                  0                  115   \n",
       "1                     7                  1                   15   \n",
       "2                     8                  0                    3   \n",
       "\n",
       "   attachment- secur   attachment- surveil   attachment- tls   \\\n",
       "0                  64                     3                24   \n",
       "1                   8                     0                 0   \n",
       "2                  15                     0                 0   \n",
       "\n",
       "   attachment- transport layer secur   \n",
       "0                                  10  \n",
       "1                                   0  \n",
       "2                                   0  \n",
       "\n",
       "[3 rows x 59 columns]"
      ]
     },
     "execution_count": 75,
     "metadata": {},
     "output_type": "execute_result"
    }
   ],
   "source": [
    "df_qu_at"
   ]
  },
  {
   "cell_type": "code",
   "execution_count": 76,
   "id": "92ebd383-be7d-406e-9660-0473be49b45e",
   "metadata": {},
   "outputs": [
    {
     "data": {
      "text/plain": [
       "'<https://list.etsi.org/scripts/wa.exe?A2=3GPP_TSG_SA_WG3_LI;20fa3cf6.1609C&S=>'"
      ]
     },
     "execution_count": 76,
     "metadata": {},
     "output_type": "execute_result"
    }
   ],
   "source": [
    "tset_kt.loc[2, 'msg-archived-at']"
   ]
  },
  {
   "cell_type": "code",
   "execution_count": 26,
   "id": "5653b591-a64a-45b9-afff-8e04b9cf68a3",
   "metadata": {},
   "outputs": [
    {
     "data": {
      "text/plain": [
       "array([8,\n",
       "       '<https://list.etsi.org/scripts/wa.exe?A2=3GPP_TSG_SA_WG3_LI;70d545d0.2202C&S=>'],\n",
       "      dtype=object)"
      ]
     },
     "execution_count": 26,
     "metadata": {},
     "output_type": "execute_result"
    }
   ],
   "source": [
    "tset[['body- protect ', 'msg-archived-at']].loc[3, :].values"
   ]
  },
  {
   "cell_type": "code",
   "execution_count": null,
   "id": "9082f90b-69a8-46c6-aa4c-6d91c7e4c1e9",
   "metadata": {},
   "outputs": [],
   "source": []
  }
 ],
 "metadata": {
  "kernelspec": {
   "display_name": "Python 3 (ipykernel)",
   "language": "python",
   "name": "python3"
  },
  "language_info": {
   "codemirror_mode": {
    "name": "ipython",
    "version": 3
   },
   "file_extension": ".py",
   "mimetype": "text/x-python",
   "name": "python",
   "nbconvert_exporter": "python",
   "pygments_lexer": "ipython3",
   "version": "3.10.2"
  }
 },
 "nbformat": 4,
 "nbformat_minor": 5
}
