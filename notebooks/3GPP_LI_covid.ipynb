{
 "cells": [
  {
   "cell_type": "code",
   "execution_count": 1,
   "id": "illegal-product",
   "metadata": {},
   "outputs": [],
   "source": [
    "import datetime\n",
    "import pandas as pd\n",
    "import numpy as np\n",
    "from collections import defaultdict\n",
    "from typing import Dict, List, Optional, Tuple, Union\n",
    "\n",
    "import pycountry\n",
    "import networkx as nx\n",
    "\n",
    "from pylab import colorbar\n",
    "from pylab import cm\n",
    "import matplotlib as mpl\n",
    "import matplotlib.pyplot as plt\n",
    "from matplotlib.pyplot import figure\n",
    "import seaborn as sns\n",
    "\n",
    "from bigbang.analysis.listserv import ListservMailList\n",
    "#from bigbang.bigbang_io import pandas_dataframe_to_mbox\n",
    "from bigbang.visualisation import graphs\n",
    "from bigbang.datasets import organizations\n",
    "\n",
    "from tgpp.config.config import CONFIG\n",
    "import tgpp.nlp.utils as NLPutils\n",
    "import tgpp.ingress.queries as Queries\n",
    "from tgpp.ingress import organizations as ORGA\n",
    "\n",
    "plt.style.use(\"./publication_jcap.mplstyle\")"
   ]
  },
  {
   "cell_type": "markdown",
   "id": "d68850c6-d66d-4f86-9960-3a2ab40a2774",
   "metadata": {},
   "source": [
    "## Load data"
   ]
  },
  {
   "cell_type": "code",
   "execution_count": 2,
   "id": "ff19e7cf-802c-4599-9c1b-3dd4d27e8ea3",
   "metadata": {},
   "outputs": [],
   "source": [
    "category_abbr_dict = {\n",
    "    'Advertising company': 'Adverts',\n",
    "    'Chipmaker': 'Chipmaker',\n",
    "    'Civil Society Organization': 'Civic Org',\n",
    "    'Cloud Provider': 'Cloud Prov',\n",
    "    'Consulting': 'Consulting',\n",
    "    'Consumer hardware and software vendor': 'Consumer Vendor',\n",
    "    'Content Distribution Network': 'Content Distr Net',\n",
    "    'Content Provider': 'Content Prov',\n",
    "    'Cybersecurity': 'Cybersec',\n",
    "    'Database Provider': 'DB Prov',\n",
    "    'Financial Institution': 'Financial Inst',\n",
    "    'Hackerspace': 'Hackerspace',\n",
    "    'Hardware Developer': 'Hardware Dev',\n",
    "    'Hardware Provider': 'Hardware Prov',\n",
    "    'IETF secretariat': 'IETF',\n",
    "    'Infrastructure Company': 'Infra Company',\n",
    "    'Internet Governance Body': 'Internet Gov',\n",
    "    'Internet Registry': 'Internet Registry',\n",
    "    'Law Enforcement Agency': 'LEA',\n",
    "    'Networking equipment vendor': 'Net Vendor',\n",
    "    'Networking Service Provider': 'Net Serv Prov',\n",
    "    'Real time video': 'Real time video',\n",
    "    'Regional Standards Body': 'Regi Standards',\n",
    "    'Regulatory Body': 'Regu Body',\n",
    "    'Research Institution': 'Research Inst',\n",
    "    'Satellite Communications Provider': 'Sat Comm Prov',\n",
    "    'Software Provider': 'Software Prov',\n",
    "    'Software developer': 'Software Dev',\n",
    "    'Space Agency': 'Space Agency',\n",
    "    'Standards Body': 'Standards',\n",
    "    'Technology research and development company': 'Tech Res and Dev',\n",
    "    'Telecommunications Provider': 'Telecomm Prov',\n",
    "    'Testing and Certification': 'Testing and Certification',\n",
    "}"
   ]
  },
  {
   "cell_type": "code",
   "execution_count": 3,
   "id": "2900fe3f-d576-4a1a-9443-f50ab8330d2c",
   "metadata": {},
   "outputs": [],
   "source": [
    "# Load data on organisations in 3GPP\n",
    "\n",
    "df_orgcat = ORGA.load_data()\n",
    "df_orgcat = ORGA.expand_rows_with_multiple_entries(df_orgcat, column='email domain names')\n",
    "df_orgcat = ORGA.assign_parent_nationality(df_orgcat)\n",
    "df_orgcat = ORGA.remove_leading_and_trailing_whitespaces(df_orgcat)\n",
    "\n",
    "# choose columns of interest\n",
    "df_nation = df_orgcat[[\n",
    "    \"name\",\n",
    "    \"nationality\",\n",
    "    \"email domain names\",\n",
    "]]\n",
    "# filter out all non-empty cells\n",
    "df_nation = df_nation.dropna()\n",
    "\n",
    "# choose columns of interest\n",
    "df_seccat = df_orgcat[[\n",
    "    \"name\",\n",
    "    \"category\",\n",
    "    \"email domain names\",\n",
    "]]\n",
    "# filter out all non-empty cells\n",
    "df_seccat = df_seccat.dropna(subset=[\"category\", \"email domain names\"])\n",
    "df_seccat = ORGA.expand_rows_with_multiple_entries(df_seccat, column='category')\n",
    "# use abbriviation for the figures\n",
    "df_seccat[\"category\"] = df_seccat[\"category\"].apply(lambda x: category_abbr_dict[x])"
   ]
  },
  {
   "cell_type": "code",
   "execution_count": 4,
   "id": "f8e33566-adcc-46fb-a26b-d7e94265e1cf",
   "metadata": {},
   "outputs": [
    {
     "name": "stdout",
     "output_type": "stream",
     "text": [
      "51445\n",
      "51184\n"
     ]
    }
   ],
   "source": [
    "# Load Search-set (Sset)\n",
    "#mlist_name = \"3GPP_TSG_SA_WG3_LI\"\n",
    "mlist_name = \"3GPP_TSG_SA_WG3\"\n",
    "\n",
    "sset_mlist = ListservMailList.from_mbox(\n",
    "    name=mlist_name,\n",
    "    filepath=CONFIG.folder_search_set + f\"{mlist_name}.mbox\",\n",
    ")\n",
    "init_sset_mlist_len = len(sset_mlist)\n",
    "print(init_sset_mlist_len)\n",
    "\n",
    "# only keep rows that have the header field 'from'\n",
    "sset_mlist.df = sset_mlist.df.dropna(subset=['from'])\n",
    "\n",
    "# only keep rows that have the header field 'date'\n",
    "#mlist.df = mlist.df.dropna(subset=['date'])\n",
    "\n",
    "sset_mlist.df['date'] = pd.to_datetime(sset_mlist.df['date'], format=\"%a, %d %b %Y %H:%M:%S %z\", errors=\"coerce\")\n",
    "print(len(sset_mlist))\n",
    "\n",
    "year_of_first_msg = np.min(sset_mlist.period_of_activity()).year\n",
    "year_of_last_msg = np.max(sset_mlist.period_of_activity()).year"
   ]
  },
  {
   "cell_type": "code",
   "execution_count": 5,
   "id": "5a734ab4-c5c7-4502-a283-d021be129425",
   "metadata": {},
   "outputs": [
    {
     "name": "stdout",
     "output_type": "stream",
     "text": [
      "S-set: 1999-01-08 07:47:55+01:00 2021-10-22 12:25:35+00:00\n"
     ]
    }
   ],
   "source": [
    "print(\n",
    "    \"S-set:\",\n",
    "    np.min(sset_mlist.period_of_activity()),\n",
    "    np.max(sset_mlist.period_of_activity()),\n",
    ")"
   ]
  },
  {
   "cell_type": "code",
   "execution_count": 6,
   "id": "d974d276-d6a9-46be-b203-77b011d8516c",
   "metadata": {},
   "outputs": [
    {
     "name": "stdout",
     "output_type": "stream",
     "text": [
      "3177\n",
      "3177\n"
     ]
    }
   ],
   "source": [
    "# Load Target-set\n",
    "\n",
    "mlist_name = \"3GPP_TSG_SA_WG3_LI\"\n",
    "\n",
    "# load target-set (Tset)\n",
    "tset_df = pd.read_hdf(\n",
    "    CONFIG.folder_target_set + f\"{mlist_name}.h5\",\n",
    "    key=\"df\",\n",
    "    header=0,\n",
    "    index_col=0,\n",
    ")\n",
    "\n",
    "non_query_columns = [col for col in tset_df.columns if col.startswith('msg-')]\n",
    "tset_df = tset_df.loc[:, tset_df.columns.isin(non_query_columns)]\n",
    "relable = {col: col.replace('msg-', '') for col in tset_df.columns}\n",
    "tset_df = tset_df.rename(columns=relable, errors=\"raise\")\n",
    "\n",
    "tset_mlist = ListservMailList.from_pandas_dataframe(\n",
    "    df=tset_df,\n",
    "    name=mlist_name,\n",
    "    filepath=CONFIG.folder_target_set + f\"{mlist_name}.h5\",\n",
    ")\n",
    "init_tset_mlist_len = len(tset_mlist)\n",
    "print(init_tset_mlist_len)\n",
    "\n",
    "# only keep rows that have the header field 'from'\n",
    "tset_mlist.df = tset_mlist.df.dropna(subset=['from'])\n",
    "\n",
    "# only keep rows that have the header field 'date'\n",
    "#tset_mlist.df = tset_mlist.df.dropna(subset=['date'])\n",
    "\n",
    "tset_mlist.df['date'] = pd.to_datetime(\n",
    "    tset_mlist.df['date'],\n",
    "    format=\"%a, %d %b %Y %H:%M:%S %z\",\n",
    "    errors=\"coerce\",\n",
    ")\n",
    "print(len(tset_mlist))\n",
    "\n",
    "year_of_first_msg = np.min(tset_mlist.period_of_activity()).year\n",
    "year_of_last_msg = np.max(tset_mlist.period_of_activity()).year"
   ]
  },
  {
   "cell_type": "code",
   "execution_count": 7,
   "id": "4c5997e4-769f-4209-a52c-956a42a62536",
   "metadata": {},
   "outputs": [
    {
     "name": "stdout",
     "output_type": "stream",
     "text": [
      "T-set: 1999-01-08 07:47:55+01:00 2021-10-22 12:25:35+00:00\n"
     ]
    }
   ],
   "source": [
    "print(\n",
    "    \"T-set:\",\n",
    "    np.min(sset_mlist.period_of_activity()),\n",
    "    np.max(sset_mlist.period_of_activity()),\n",
    ")"
   ]
  },
  {
   "cell_type": "code",
   "execution_count": 8,
   "id": "83a0fe55-f7ee-4f02-8a26-6106966814ae",
   "metadata": {},
   "outputs": [],
   "source": [
    "# Select to analyse T-set or S-set\n",
    "set_lable = 'sset'\n",
    "mlist = sset_mlist"
   ]
  },
  {
   "cell_type": "markdown",
   "id": "18c7a124-f399-448a-9f78-12aa9d9d1463",
   "metadata": {},
   "source": [
    "## Add Nationality, Category, Stakeholder to Email Sender"
   ]
  },
  {
   "cell_type": "code",
   "execution_count": 9,
   "id": "2f26d95a-ea20-46ca-b296-889292344720",
   "metadata": {},
   "outputs": [],
   "source": [
    "# Add stakeholdergroup to sender\n",
    "\n",
    "mlist.df['from_category'] = 'Unkown'\n",
    "for idx, row in mlist.df.iterrows():\n",
    "    _, _, domain = ListservMailList.get_name_localpart_domain(row['from'])\n",
    "    category = df_seccat[df_seccat['email domain names'] == domain]['category'].values\n",
    "    if len(category) > 0:\n",
    "        try:\n",
    "            mlist.df.loc[idx, 'from_category'] = category[0].strip()\n",
    "        except:\n",
    "            print(idx, category)"
   ]
  },
  {
   "cell_type": "code",
   "execution_count": 10,
   "id": "4e02d4cf-cac5-4ded-a0cc-ae005ed1ad62",
   "metadata": {},
   "outputs": [],
   "source": [
    "# Add stakeholdergroup to sender\n",
    "\n",
    "mlist.df['from_stakeholdergroup'] = 'Unkown'\n",
    "for idx, row in mlist.df.iterrows():\n",
    "    _, _, domain = ListservMailList.get_name_localpart_domain(row['from'])\n",
    "    stakeholdergroup = df_orgcat[df_orgcat['email domain names'] == domain]['stakeholdergroup'].values\n",
    "    if len(stakeholdergroup) > 0:\n",
    "        try:\n",
    "            mlist.df.loc[idx, 'from_stakeholdergroup'] = stakeholdergroup[0].strip()\n",
    "        except:\n",
    "            continue\n",
    "        #print(idx, stakeholdergroup)"
   ]
  },
  {
   "cell_type": "code",
   "execution_count": 11,
   "id": "a43fa33a-d69e-4bf5-85ed-79a883520617",
   "metadata": {},
   "outputs": [],
   "source": [
    "# Add nationality to sender in\n",
    "\n",
    "mlist.df['from_nationality'] = 'Unkown'\n",
    "for idx, row in mlist.df.iterrows():\n",
    "    #print(row['from'])\n",
    "    _, _, domain = ListservMailList.get_name_localpart_domain(row['from'])\n",
    "    nationality = df_nation[df_nation['email domain names'] == domain]['nationality'].values\n",
    "    if len(nationality) > 0:\n",
    "        try:\n",
    "            mlist.df.loc[idx, 'from_nationality'] = nationality[0].strip()\n",
    "        except:\n",
    "            print(idx, nationality, nationality[0])"
   ]
  },
  {
   "cell_type": "code",
   "execution_count": 12,
   "id": "bbe8b250-954c-4b4a-bdbf-4991c265d406",
   "metadata": {},
   "outputs": [],
   "source": [
    "mlist_1 = mlist.crop_by_year(yrs=[2000, 2020])\n",
    "mlist_2 = mlist.crop_by_year(yrs=[2020, 2022])"
   ]
  },
  {
   "cell_type": "code",
   "execution_count": 13,
   "id": "b4a928a0-44ed-4f4f-94ac-aabe6fe9e9ac",
   "metadata": {},
   "outputs": [],
   "source": [
    "keyterms = {\n",
    "    'corona': 0,\n",
    "    'covid': 0,\n",
    "    'pandemic': 0,\n",
    "    'epidemic': 0,\n",
    "    'wuhan': 0,\n",
    "    'china': 0,\n",
    "    'teams': 0,\n",
    "    'zoom': 0,\n",
    "    'skype': 0,\n",
    "    'jitsi': 0,\n",
    "    'video-conferenc': 0,\n",
    "}\n",
    "\n",
    "min_len = np.min([len(kt) for kt in keyterms.keys()])\n",
    "max_len = np.max([len(kt) for kt in keyterms.keys()])\n",
    "\n",
    "for msg_idx, msg in mlist_2.df.iterrows():\n",
    "    text = NLPutils.text_preprocessing(\n",
    "        msg['body'],\n",
    "        min_len=2,\n",
    "        max_len=40,\n",
    "        keep_nonalphanumerics=['-'],\n",
    "        remove_numbers=True,\n",
    "        do_lemmatize=True,\n",
    "        do_stemming=False,\n",
    "        return_tokens=False,\n",
    "    )\n",
    "    for keyterm in keyterms.keys():\n",
    "        keyterms[keyterm] = text.count(keyterm)\n",
    "    "
   ]
  },
  {
   "cell_type": "code",
   "execution_count": 14,
   "id": "e990fe5d-c784-4a1f-a2a0-83d03af350e2",
   "metadata": {},
   "outputs": [
    {
     "data": {
      "text/plain": [
       "{'corona': 0,\n",
       " 'covid': 0,\n",
       " 'pandemic': 0,\n",
       " 'epidemic': 0,\n",
       " 'wuhan': 0,\n",
       " 'china': 0,\n",
       " 'teams': 0,\n",
       " 'zoom': 0,\n",
       " 'skype': 0,\n",
       " 'jitsi': 0,\n",
       " 'video-conferenc': 0}"
      ]
     },
     "execution_count": 14,
     "metadata": {},
     "output_type": "execute_result"
    }
   ],
   "source": [
    "keyterms"
   ]
  },
  {
   "cell_type": "code",
   "execution_count": 15,
   "id": "0df13eb8-c2e0-4b74-b1c9-6ffb5c0ef835",
   "metadata": {},
   "outputs": [
    {
     "data": {
      "text/plain": [
       "'nmy suggestion proceed isn xe ipsec nds inter plmn protection xe intruder inject traffic ul dl pdu session min sa people present security requirements ipupf discuss sa view architecture sa assume ipupf functionality clear rest discussion moot min xe ll briefly describe architecture discuss sa basically slide attach min give floor people defend solutions min seek conclusions main question prepare potential show hand nthis conclude january meet feature exception complete stage deadline nbest nlaurent nfrom thiebaut laurent nokia fr paris-saclay nsent monday december pm nto log unmask nsubject fw gpp roam security conf call options nforwarding sa list nbest nlaurent nfrom gpp tsg sa wg tsg sa security log unmask behalf steve kohalmi nsent friday december pm nto log unmask nsubject gpp roam security conf call options nsorry mess timezones nso time https doodle poll qq gyxc gnmqcdf https urldefense https nam safelinks protection outlook url https fdoodle fpoll fqq gyxc gnmqcdf data cchris joul t-mobile cb af bf cb cbe bdd bd bbc sdata jvqxogyzlbvlx qaahbjrvplfsv bs xanfsohbhpm reserve jsuljsuljsuljsuljsul net ymao-gk qq cz uigfmgmncuhyo kehdu gsux mswhgmxlji xap pjgqic pzq nsteve nfrom thiebaut laurent nokia fr paris-saclay log unmask mailto log unmask ndate friday december pm nto steve kohalmi log unmask mailto log unmask ncc log unmask mailto log unmask log unmask mailto log unmask joul chris log unmask mailto log unmask nsubject gpp roam security conf call options nhi ni check doodle nrelaying steve support sa agreement call setup midnight time zone call pst time zone xf nbest nlaurent nfrom gpp tsg sa wg tsg sa architecture log unmask mailto log unmask behalf joul chris nsent friday december pm nto log unmask mailto log unmask nsubject gpp roam security conf call options ni agree stefano accept propose time nsent mail https urldefense https microsoft fwlink linkid net ymao-gk qq cz uigfmgmncuhyo kehdu gsux mswhgmxlji xap pjgqegbbul windows nfrom stefano faccin mailto log unmask nsent friday december nto log unmask mailto log unmask nsubject gpp roam security conf call options external nhello ni establish agreement call setup earlier pst suggest follow agreement time poll acceptable base agreement ncheers nstefano nfrom gpp tsg sa wg tsg sa architecture log unmask mailto log unmask behalf thiebaut laurent nokia fr paris-saclay nsent friday december nto log unmask mailto log unmask nsubject fw gpp roam security conf call options ncaution email originate organization nhi nforwarding sa exploder nbest nlaurent nfrom steve kohalmi log unmask mailto log unmask nsent friday december pm nto gpp tsg sa wg tsg sa security log unmask mailto log unmask ncc thiebaut laurent nokia fr paris-saclay log unmask mailto log unmask nsubject gpp roam security conf call options ndue popular demand add timeslots rest week jan hope work nhttps doodle poll qq gyxc gnmqcdf https urldefense https nam safelinks protection outlook url https fdoodle fpoll fqq gyxc gnmqcdf data cchris joul t-mobile cb af bf cb cbe bdd bd bbc sdata mfxt fha gk frix wvh eokudtjmeogqjv reserve jsuljsuljsuljsuljsul net ymao-gk qq cz uigfmgmncuhyo kehdu gsux mswhgmxlji xap pjghmshxvl nlaurent forward sa reflector nbest nsteve nfrom steve kohalmi log unmask mailto log unmask ndate thursday december pm nto gpp tsg sa wg tsg sa security log unmask mailto log unmask nsubject gpp roam security conf call options ndear fan upgf nthe sa meet week topic upgf ipups sa sa home work common solution section sp- directions expect step ntsg sa agree send back cr cr sa wg cr sa wg task sa wg sa wg work topic upgf ipups understand n- ipups upgf functionality expect support gs architecture gs architectural principles functionality deploy part upf deploy stand-alone functionality user plane n- sa wg task provide requirements secure ipups upgf n- sa wg task provide architectural solution meet security requirements work exist cr ts understand fasmo regime apply alignment work nboth group expect provide solution relevant crs submit approval sa march ni propose arrange couple joint conference call contributions february sa meet doodle pool call sa meet january forward sa colleagues need set sa meet nhttps doodle poll qq gyxc gnmqcdf https urldefense https nam safelinks protection outlook url https fdoodle fpoll fqq gyxc gnmqcdf data cchris joul t-mobile cb af bf cb cbe bdd bd bbc sdata jvqxogyzlbvlx qaahbjrvplfsv bs xanfsohbhpm reserve jsuljsuljsuljsuljsul net ymao-gk qq cz uigfmgmncuhyo kehdu gsux mswhgmxlji xap pjgqic pzq nhappy holiday nsteve'"
      ]
     },
     "execution_count": 15,
     "metadata": {},
     "output_type": "execute_result"
    }
   ],
   "source": [
    "text"
   ]
  },
  {
   "cell_type": "code",
   "execution_count": 16,
   "id": "26b9bab7-0c6d-4e61-a5a8-5bf5f7a84e61",
   "metadata": {},
   "outputs": [
    {
     "data": {
      "text/plain": [
       "\"b'Hello all,\\\\n\\\\nCover page: sorry, but the field \\\\xe2\\\\x80\\\\x9cconsequences if not approved\\\\xe2\\\\x80\\\\x9d is compulsory for cat-F CRs.\\\\n\\\\nRegards\\\\n\\\\nMirko Cano Soveri \\\\xe2\\\\x80\\\\x93 Technical Officer\\\\nETSI \\\\xe2\\\\x97\\\\x8f www.etsi.org<http://www.etsi.org/> \\\\xe2\\\\x97\\\\x8f mirko.cano@etsi.org<mailto:mirko.cano@etsi.org>\\\\nPhone: +33 (0)4 92 94 42 97 \\\\xe2\\\\x97\\\\x8f Mobile: +33 (0)6 73 99 62 94\\\\nWatch our new ETSI video \\\\xe2\\\\x80\\\\x9cMEC \\\\xe2\\\\x80\\\\x93 Close to the user, at the EDGE!<https://youtu.be/crnPWql-0oo>\\\\xe2\\\\x80\\\\x9d\\\\n\\\\n[Text, whiteboard  Description automatically generated]<https://youtu.be/crnPWql-0oo>\\\\n\\\\n'\""
      ]
     },
     "execution_count": 16,
     "metadata": {},
     "output_type": "execute_result"
    }
   ],
   "source": [
    "mlist_2.df.loc[2869, 'body']"
   ]
  },
  {
   "cell_type": "code",
   "execution_count": null,
   "id": "a83e03f7-4ab6-4175-9efe-c90aefa8fa95",
   "metadata": {},
   "outputs": [],
   "source": []
  }
 ],
 "metadata": {
  "kernelspec": {
   "display_name": "Python 3 (ipykernel)",
   "language": "python",
   "name": "python3"
  },
  "language_info": {
   "codemirror_mode": {
    "name": "ipython",
    "version": 3
   },
   "file_extension": ".py",
   "mimetype": "text/x-python",
   "name": "python",
   "nbconvert_exporter": "python",
   "pygments_lexer": "ipython3",
   "version": "3.10.2"
  }
 },
 "nbformat": 4,
 "nbformat_minor": 5
}
