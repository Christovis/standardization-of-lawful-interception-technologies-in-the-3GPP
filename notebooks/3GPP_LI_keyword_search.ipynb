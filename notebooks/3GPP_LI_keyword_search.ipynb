{
 "cells": [
  {
   "cell_type": "code",
   "execution_count": 1,
   "id": "illegal-product",
   "metadata": {},
   "outputs": [],
   "source": [
    "import datetime\n",
    "import pandas as pd\n",
    "import numpy as np\n",
    "from collections import defaultdict\n",
    "from typing import Dict, List, Optional, Tuple, Union\n",
    "\n",
    "from pylab import cm\n",
    "import matplotlib as mpl\n",
    "import matplotlib.pyplot as plt\n",
    "from matplotlib.pyplot import figure\n",
    "import seaborn as sns\n",
    "\n",
    "from bigbang.analysis.listserv import ListservMailList\n",
    "#from bigbang.bigbang_io import pandas_dataframe_to_mbox\n",
    "\n",
    "from tgpp.config.config import CONFIG\n",
    "import tgpp.ingress.queries as Queries\n",
    "\n",
    "plt.style.use(\"./publication_jcap.mplstyle\")"
   ]
  },
  {
   "cell_type": "code",
   "execution_count": 2,
   "id": "8ab046e8-39d9-4552-b621-371cdcee231b",
   "metadata": {},
   "outputs": [],
   "source": [
    "def format_dictionary(dic: dict, threshold: Union[int, float]) -> dict:\n",
    "    \"\"\"\n",
    "    Format dictionary for pie plot.\n",
    "    \"\"\"\n",
    "    dic_sorted = {\n",
    "        list(dic.keys())[indx]: list(dic.values())[indx]\n",
    "        for indx in np.argsort(list(dic.values()))[::-1]\n",
    "    }\n",
    "\n",
    "    percentages = ListservMailList.to_percentage(list(dic_sorted.values()))\n",
    "    dic_sorted = {key: value for key, value in zip(dic_sorted.keys(), percentages)}\n",
    "\n",
    "    dic_filtered = {\"others\": 0}\n",
    "    \n",
    "    if isinstance(threshold, int):\n",
    "        for index, (key, value) in enumerate(dic_sorted.items()):\n",
    "            if index <= threshold:\n",
    "                dic_filtered[key] = value\n",
    "            else:\n",
    "                dic_filtered[\"others\"] += value\n",
    "    elif isinstance(threshold, float):\n",
    "        for key, value in dic_sorted.items():\n",
    "            if value >= threshold:\n",
    "                dic_filtered[key] = value\n",
    "            else:\n",
    "                dic_filtered[\"others\"] += value\n",
    "    return dic_filtered"
   ]
  },
  {
   "cell_type": "markdown",
   "id": "d68850c6-d66d-4f86-9960-3a2ab40a2774",
   "metadata": {},
   "source": [
    "## Load data"
   ]
  },
  {
   "cell_type": "code",
   "execution_count": 3,
   "id": "2900fe3f-d576-4a1a-9443-f50ab8330d2c",
   "metadata": {},
   "outputs": [],
   "source": [
    "# Load data on organisations in 3GPP\n",
    "\n",
    "file_path = \"/Users/christovis/Documents/InternetGovernance/bigbang/examples/organizations/organization_categories.csv\"\n",
    "df_organization_categories = pd.read_csv(\n",
    "    file_path,\n",
    "    sep=\",\",\n",
    "    header=0,\n",
    "    index_col=False,\n",
    ")\n",
    "# choose columns of interest\n",
    "df_nation = df_organization_categories[[\n",
    "    \"name\",\n",
    "    \"nationality\",\n",
    "    \"email domain names\",\n",
    "]]\n",
    "# filter out all non-empty cells\n",
    "df_nation = df_nation.dropna()\n",
    "\n",
    "indices = [\n",
    "    idx\n",
    "    for idx, row in df_nation.iterrows()\n",
    "    if len(row['email domain names'].split(',')) > 1\n",
    "]    \n",
    "\n",
    "df_nation_multi = df_nation.loc[indices]\n",
    "df_nation_single = df_nation.drop(indices)\n",
    "\n",
    "_df_nation_multi = defaultdict(list)\n",
    "for idx, row in df_nation_multi.iterrows():\n",
    "    _row = row\n",
    "    email_domains = row['email domain names'].split(',')\n",
    "    for email_domain in email_domains:\n",
    "        _row['email domain names'] = email_domain.strip()\n",
    "        for key, value in _row.to_dict().items():\n",
    "            _df_nation_multi[key].append(value)\n",
    "df_nation = pd.concat([df_nation_single, pd.DataFrame.from_dict(_df_nation_multi)], ignore_index=True)"
   ]
  },
  {
   "cell_type": "code",
   "execution_count": 4,
   "id": "fceabb1f-5743-4740-a4ae-7e5e99f714dd",
   "metadata": {},
   "outputs": [],
   "source": [
    "# Load Target-set (Tset)\n",
    "mlist_name = \"3GPP_TSG_SA_WG3_LI\"\n",
    "\n",
    "df = pd.read_hdf(\n",
    "    CONFIG.folder_target_set + f\"{mlist_name}.h5\",\n",
    "    key=\"df\",\n",
    "    header=0,\n",
    "    index_col=0,\n",
    ")\n",
    "df = df.dropna()\n",
    "df['msg-date'] =  pd.to_datetime(df['msg-date'], format=\"%a, %d %b %Y %H:%M:%S %z\")"
   ]
  },
  {
   "cell_type": "code",
   "execution_count": 5,
   "id": "698eb76b-6b9b-4ffa-92e9-7e55c2a4ebd3",
   "metadata": {},
   "outputs": [],
   "source": [
    "# Add nationality to sender in target-set\n",
    "\n",
    "df['msg-nationality'] = np.nan\n",
    "for idx, row in df.iterrows():\n",
    "    _, _, domain = ListservMailList.get_name_localpart_domain(row['msg-from'])\n",
    "    nationality = df_nation[df_nation['email domain names'] == domain]['nationality'].values\n",
    "    if len(nationality) > 0:\n",
    "        # TODO: there are some domain names associated to multiple nationailies\n",
    "        df.loc[idx, 'msg-nationality'] = nationality[0]\n",
    "df = df.dropna()\n",
    "df = Queries.remove_text_wo_query(df)\n",
    "df = Queries.remove_query_wo_text(df)"
   ]
  },
  {
   "cell_type": "code",
   "execution_count": 6,
   "id": "d029483b-a661-4bff-9891-19d3a27580fb",
   "metadata": {},
   "outputs": [],
   "source": [
    "# get Tset Email header fields\n",
    "non_query_columns = [col for col in df.columns if col.startswith('msg-')]\n",
    "df_msg = df.loc[:, df.columns.isin(non_query_columns)]\n",
    "\n",
    "# get Tset Email keyterms\n",
    "df_qu = df.loc[:, ~df.columns.isin(non_query_columns)]\n",
    "body_query_columns = [col for col in df_qu.columns if col.startswith('body-')]\n",
    "attachment_query_columns = [col for col in df_qu.columns if col.startswith('attachment-')]\n",
    "df_qu_bo = df.loc[:, body_query_columns]\n",
    "df_qu_at = df.loc[:, attachment_query_columns]\n",
    "\n",
    "df_qu_bo = Queries.remove_text_wo_query(df_qu_bo)\n",
    "df_qu_bo = Queries.remove_query_wo_text(df_qu_bo)\n",
    "\n",
    "df_qu_at = Queries.remove_text_wo_query(df_qu_at)\n",
    "df_qu_at = Queries.remove_query_wo_text(df_qu_at)\n",
    "\n",
    "# load search-set (Sset)\n",
    "mlist = ListservMailList.from_mbox(\n",
    "    name=mlist_name,\n",
    "    filepath=CONFIG.folder_search_set + f\"{mlist_name}.mbox\",\n",
    ")"
   ]
  },
  {
   "cell_type": "markdown",
   "id": "4b93bb06-f82c-4c8e-8c71-e56db7244138",
   "metadata": {},
   "source": [
    "## Nationality of Tset Email"
   ]
  },
  {
   "cell_type": "code",
   "execution_count": 7,
   "id": "61e49e7a-f150-44e2-b254-a7548fa34ba3",
   "metadata": {},
   "outputs": [
    {
     "name": "stdout",
     "output_type": "stream",
     "text": [
      "Denmark 1\n",
      "Japan 3\n",
      "Norway 6\n",
      "China 9\n",
      "Netherlands 20\n",
      "Spain 21\n",
      "the Netherlands 71\n",
      "Australia 77\n",
      "Canada 137\n",
      "Germany 160\n",
      "Sweden 167\n",
      "France 268\n",
      "United Kingdom 537\n",
      "United States 553\n",
      "Finland 669\n"
     ]
    }
   ],
   "source": [
    "# Combined appearance in Email body and attachement\n",
    "\n",
    "key, count = np.unique(df_msg['msg-nationality'].values, return_counts=True)\n",
    "idx = np.argsort(count)\n",
    "key = key[idx]\n",
    "count = count[idx]\n",
    "\n",
    "for k, c in zip(key, count):\n",
    "    print(k, c)"
   ]
  },
  {
   "cell_type": "code",
   "execution_count": 8,
   "id": "5aefe86f-6415-4fea-a28e-9a427345bb30",
   "metadata": {},
   "outputs": [
    {
     "name": "stdout",
     "output_type": "stream",
     "text": [
      "Denmark 1\n",
      "Japan 3\n",
      "Norway 6\n",
      "China 9\n",
      "Netherlands 20\n",
      "Spain 21\n",
      "the Netherlands 70\n",
      "Australia 75\n",
      "Canada 133\n",
      "Germany 152\n",
      "Sweden 166\n",
      "France 248\n",
      "United Kingdom 471\n",
      "United States 535\n",
      "Finland 634\n"
     ]
    }
   ],
   "source": [
    "# Appearance in Email body\n",
    "# When looking at the Email body and attachment seperatley, the Email body gives a better insight\n",
    "# into whether the sender has used a specific concept conciously, as the attachments are often\n",
    "# meeting notes and agendas that don't represent what the sender was concerned about.\n",
    "\n",
    "notattachment_query_columns = [col for col in df.columns if not col.startswith('attachment-')]\n",
    "_df = Queries.remove_text_wo_query(df[notattachment_query_columns])\n",
    "_df = Queries.remove_query_wo_text(_df)\n",
    "key, count = np.unique(_df['msg-nationality'].values, return_counts=True)\n",
    "idx = np.argsort(count)\n",
    "key = key[idx]\n",
    "count = count[idx]\n",
    "\n",
    "for k, c in zip(key, count):\n",
    "    print(k, c)"
   ]
  },
  {
   "cell_type": "markdown",
   "id": "ad4221ee-2700-4516-b968-e4f2205a5a07",
   "metadata": {},
   "source": [
    "## Count Emails and Attachements containing keyterms"
   ]
  },
  {
   "cell_type": "code",
   "execution_count": 9,
   "id": "e78bd846-94cb-4e93-a665-090e60868403",
   "metadata": {},
   "outputs": [],
   "source": [
    "df_qu_bo[df_qu_bo != 0] = 1\n",
    "queries_count_body = df_qu_bo.sum(axis=0).sort_values()\n",
    "\n",
    "df_qu_at[df_qu_at != 0] = 1\n",
    "queries_count_attachment = df_qu_at.sum(axis=0).sort_values()"
   ]
  },
  {
   "cell_type": "code",
   "execution_count": 10,
   "id": "de907700-0c00-4cb6-9a67-b61477051a02",
   "metadata": {},
   "outputs": [
    {
     "data": {
      "text/plain": [
       "body- law intercept identifi        1\n",
       "body- ld                            1\n",
       "body- nds                           1\n",
       "body- gprs li correl                1\n",
       "body- lipa                          1\n",
       "                                 ... \n",
       "body- lemf                        563\n",
       "body- lea                         609\n",
       "body- poi                         760\n",
       "body- cc                          996\n",
       "body- iri                        1080\n",
       "Length: 77, dtype: int64"
      ]
     },
     "execution_count": 10,
     "metadata": {},
     "output_type": "execute_result"
    }
   ],
   "source": [
    "queries_count_body#[-50::]"
   ]
  },
  {
   "cell_type": "code",
   "execution_count": 11,
   "id": "01add772-be48-4b8e-adb4-cb2807692d40",
   "metadata": {},
   "outputs": [
    {
     "data": {
      "text/plain": [
       "attachment- intellig network                1\n",
       "attachment- ilhi                            1\n",
       "attachment- intercept network element       1\n",
       "attachment- dpi                             1\n",
       "attachment- communic ident number           1\n",
       "                                         ... \n",
       "attachment- handov interfac                92\n",
       "attachment- csp                           100\n",
       "attachment- lal                           117\n",
       "attachment- cc                            157\n",
       "attachment- iri                           160\n",
       "Length: 89, dtype: int64"
      ]
     },
     "execution_count": 11,
     "metadata": {},
     "output_type": "execute_result"
    }
   ],
   "source": [
    "queries_count_attachment"
   ]
  },
  {
   "cell_type": "markdown",
   "id": "653ffead-112a-4cdd-a15f-d461d444ed3b",
   "metadata": {},
   "source": [
    "## Find Email first to mention keyterms"
   ]
  },
  {
   "cell_type": "code",
   "execution_count": 12,
   "id": "dd4ebf24-9205-46b5-8fb0-cac330625b7e",
   "metadata": {},
   "outputs": [],
   "source": [
    "def find_first_keyterm_mention(df: pd.DataFrame, keyterm: str):\n",
    "    \"\"\"\n",
    "    Parameters:\n",
    "    -----------\n",
    "    keyterm: is the same as the column name in the DataFrame.\n",
    "    \n",
    "    Returns\n",
    "    -------\n",
    "    Returns index of Email tha first mentiones keyterm.\n",
    "    \"\"\"\n",
    "    _df = df[df[keyterm] != 0]\n",
    "    min_datetime = _df['msg-date'].values.min()\n",
    "    index = df[df['msg-date'] == min_datetime].index[0]\n",
    "    return index\n",
    "\n",
    "body_query_columns = [col for col in df_qu.columns if col.startswith('body-')]\n",
    "indices = [\n",
    "    find_first_keyterm_mention(df, column)\n",
    "    for column in body_query_columns\n",
    "]\n",
    "df_bo_first = df.loc[indices]\n",
    "\n",
    "attachment_query_columns = [col for col in df_qu.columns if col.startswith('attachment-')]\n",
    "indices = [\n",
    "    find_first_keyterm_mention(df, column)\n",
    "    for column in attachment_query_columns\n",
    "]\n",
    "df_at_first = df.loc[indices]"
   ]
  },
  {
   "cell_type": "code",
   "execution_count": 13,
   "id": "3bfba806-da28-422c-83f3-1282b81b3db6",
   "metadata": {},
   "outputs": [
    {
     "data": {
      "image/png": "[encoded data removed]",
      "text/plain": [
       "<Figure size 540x360 with 1 Axes>"
      ]
     },
     "metadata": {},
     "output_type": "display_data"
    }
   ],
   "source": [
    "years, couts = np.unique([dt.year for dt in df_bo_first['msg-date']], return_counts=True)\n",
    "plt.scatter(years, couts, label=\"Body\")\n",
    "\n",
    "years, couts = np.unique([dt.year for dt in df_at_first['msg-date']], return_counts=True)\n",
    "plt.scatter(years, couts, label=\"Attachments\")\n",
    "\n",
    "plt.xlim(2000, 2023)\n",
    "plt.xlabel('Year')\n",
    "plt.ylabel('Nr of first mentioned keyterms in msg-body')\n",
    "plt.legend()\n",
    "\n",
    "#\"\"\"\n",
    "plt.savefig(\n",
    "    f\"{mlist_name}_time_kw_first_mentioned.png\",\n",
    "    format='png',\n",
    "    transparent=True,\n",
    "    dpi=300,\n",
    "    bbox_inches='tight',\n",
    ")#\"\"\""
   ]
  },
  {
   "cell_type": "markdown",
   "id": "9fc0af72-de79-4292-a8f6-224b998bf22b",
   "metadata": {},
   "source": [
    "## Domains and Nationality of first mentioned keyterms"
   ]
  },
  {
   "cell_type": "code",
   "execution_count": 14,
   "id": "a0cd4804-94f7-4127-9fe6-80f0dd4f6f4a",
   "metadata": {},
   "outputs": [],
   "source": [
    "mlist_bo_first = ListservMailList.from_pandas_dataframe(\n",
    "    df=mlist.df[mlist.df['message-id'].isin(df_bo_first['msg-message-id'].values)],\n",
    "    name=mlist_name,\n",
    ")\n",
    "mlist_at_first = ListservMailList.from_pandas_dataframe(\n",
    "    df=mlist.df[mlist.df['message-id'].isin(df_at_first['msg-message-id'].values)],\n",
    "    name=mlist_name,\n",
    ")"
   ]
  },
  {
   "cell_type": "code",
   "execution_count": 15,
   "id": "3d09fa4c-06e0-4036-a476-325bb85867fe",
   "metadata": {},
   "outputs": [
    {
     "data": {
      "image/png": "[encoded data removed]",
      "text/plain": [
       "<Figure size 288x432 with 1 Axes>"
      ]
     },
     "metadata": {},
     "output_type": "display_data"
    }
   ],
   "source": [
    "dicts = mlist_bo_first.get_messagescount(\n",
    "    header_fields=['from', 'comments-to'],\n",
    "    per_address_field='domain',\n",
    "    per_year=False,\n",
    ")\n",
    "threshold = 11\n",
    "dict_filtered = format_dictionary(dicts[\"from\"], threshold)\n",
    "\n",
    "# plot figure\n",
    "fig, axis = plt.subplots(\n",
    "    1, 1,\n",
    "    figsize=(4, 6),\n",
    ")\n",
    "nr_colors = len(dict_filtered.values()) + 3\n",
    "cmap = cm.binary(np.arange(nr_colors) / nr_colors)\n",
    "\n",
    "axis.pie(\n",
    "    dict_filtered.values(),\n",
    "    radius=3.,\n",
    "    wedgeprops={\"edgecolor\":\"k\",'linewidth': 1, 'linestyle': '-'},\n",
    "    labels=dict_filtered.keys(),\n",
    "    labeldistance=1.2,\n",
    "    autopct='%1.f%%',\n",
    "    shadow=False,\n",
    "    startangle=90,\n",
    "    colors=cmap,\n",
    ")\n",
    "axis.axis('equal')\n",
    "\n",
    "#\"\"\"\n",
    "plt.savefig(\n",
    "    f\"{mlist_name}_stakeholder_kw_first_mentioned.png\",\n",
    "    format='png',\n",
    "    transparent=True,\n",
    "    dpi=300,\n",
    "    bbox_inches='tight',\n",
    ")#\"\"\""
   ]
  },
  {
   "cell_type": "code",
   "execution_count": 16,
   "id": "b0325a7d-5a7a-40c5-8c54-978e5aa36898",
   "metadata": {},
   "outputs": [
    {
     "name": "stdout",
     "output_type": "stream",
     "text": [
      "United States verisign.com\n",
      "United States cisco.com\n",
      "United States t-mobile.de\n",
      "United States email.mot.com\n",
      "United States trideaworks.com\n",
      "United States motorola.com\n"
     ]
    }
   ],
   "source": [
    "dict_filtered = defaultdict(int)\n",
    "for key, value in dicts[\"from\"].items():\n",
    "    if key in df_nation[\"email domain names\"].values:\n",
    "        nationality = df_nation[df_nation[\"email domain names\"] == key]['nationality'].values[0]\n",
    "        dict_filtered[nationality] += value\n",
    "        if nationality == 'United States':\n",
    "            print(nationality, key)"
   ]
  },
  {
   "cell_type": "code",
   "execution_count": 17,
   "id": "2e5caa52-11ab-4c70-a299-1544d7cc727b",
   "metadata": {},
   "outputs": [
    {
     "data": {
      "text/plain": [
       "(array(['+0000', '+0100', '+0200', '+0300'], dtype='<U5'),\n",
       " array([767,   1, 129, 157]))"
      ]
     },
     "execution_count": 17,
     "metadata": {},
     "output_type": "execute_result"
    }
   ],
   "source": [
    "timezones = [\n",
    "    tz[-5:]\n",
    "    for tz in mlist.crop_by_address(header_field=\"from\", per_address_field={'domain': ['nokia.com']}).df['date'].values\n",
    "]\n",
    "np.unique(timezones, return_counts=True)"
   ]
  },
  {
   "cell_type": "code",
   "execution_count": 18,
   "id": "ea4221f6-64db-4c38-9365-53dc205c39e7",
   "metadata": {},
   "outputs": [
    {
     "name": "stdout",
     "output_type": "stream",
     "text": [
      "United States verisign.com\n",
      "United States cisco.com\n",
      "United States t-mobile.de\n",
      "United States email.mot.com\n",
      "United States trideaworks.com\n",
      "United States motorola.com\n"
     ]
    },
    {
     "data": {
      "image/png": "[encoded data removed]",
      "text/plain": [
       "<Figure size 288x432 with 1 Axes>"
      ]
     },
     "metadata": {},
     "output_type": "display_data"
    }
   ],
   "source": [
    "dict_filtered = defaultdict(int)\n",
    "for key, value in dicts[\"from\"].items():\n",
    "    if key in df_nation[\"email domain names\"].values:\n",
    "        nationality = df_nation[df_nation[\"email domain names\"] == key]['nationality'].values[0]\n",
    "        dict_filtered[nationality] += value\n",
    "        if nationality == 'United States':\n",
    "            print(nationality, key)\n",
    "\n",
    "# plot figure\n",
    "fig, axis = plt.subplots(\n",
    "    1, 1,\n",
    "    figsize=(4, 6),\n",
    ")\n",
    "nr_colors = len(dict_filtered.values()) + 3\n",
    "cmap = cm.binary(np.arange(nr_colors) / nr_colors)\n",
    "\n",
    "axis.pie(\n",
    "    dict_filtered.values(),\n",
    "    radius=3.,\n",
    "    wedgeprops={\"edgecolor\":\"k\",'linewidth': 1, 'linestyle': '-'},\n",
    "    labels=dict_filtered.keys(),\n",
    "    labeldistance=1.2,\n",
    "    autopct='%1.f%%',\n",
    "    shadow=False,\n",
    "    startangle=90,\n",
    "    colors=cmap,\n",
    ")\n",
    "axis.axis('equal')\n",
    "\n",
    "#\"\"\"\n",
    "plt.savefig(\n",
    "    f\"{mlist_name}_nationality_kw_first_mentioned.png\",\n",
    "    format='png',\n",
    "    transparent=True,\n",
    "    dpi=300,\n",
    "    bbox_inches='tight',\n",
    ")#\"\"\""
   ]
  },
  {
   "cell_type": "markdown",
   "id": "af055fab-2f83-46bc-b3cf-a27c27553b0f",
   "metadata": {},
   "source": [
    "## Domains mentioning keyterms"
   ]
  },
  {
   "cell_type": "code",
   "execution_count": 19,
   "id": "94d5f0a6-6f0c-42cb-89a3-3362f690da41",
   "metadata": {},
   "outputs": [
    {
     "ename": "KeyError",
     "evalue": "'msg-message-id'",
     "output_type": "error",
     "traceback": [
      "\u001b[0;31m---------------------------------------------------------------------------\u001b[0m",
      "\u001b[0;31mKeyError\u001b[0m                                  Traceback (most recent call last)",
      "File \u001b[0;32m/opt/homebrew/lib/python3.10/site-packages/pandas/core/indexes/base.py:3621\u001b[0m, in \u001b[0;36mIndex.get_loc\u001b[0;34m(self, key, method, tolerance)\u001b[0m\n\u001b[1;32m   3620\u001b[0m \u001b[38;5;28;01mtry\u001b[39;00m:\n\u001b[0;32m-> 3621\u001b[0m     \u001b[38;5;28;01mreturn\u001b[39;00m \u001b[38;5;28;43mself\u001b[39;49m\u001b[38;5;241;43m.\u001b[39;49m\u001b[43m_engine\u001b[49m\u001b[38;5;241;43m.\u001b[39;49m\u001b[43mget_loc\u001b[49m\u001b[43m(\u001b[49m\u001b[43mcasted_key\u001b[49m\u001b[43m)\u001b[49m\n\u001b[1;32m   3622\u001b[0m \u001b[38;5;28;01mexcept\u001b[39;00m \u001b[38;5;167;01mKeyError\u001b[39;00m \u001b[38;5;28;01mas\u001b[39;00m err:\n",
      "File \u001b[0;32m/opt/homebrew/lib/python3.10/site-packages/pandas/_libs/index.pyx:136\u001b[0m, in \u001b[0;36mpandas._libs.index.IndexEngine.get_loc\u001b[0;34m()\u001b[0m\n",
      "File \u001b[0;32m/opt/homebrew/lib/python3.10/site-packages/pandas/_libs/index.pyx:163\u001b[0m, in \u001b[0;36mpandas._libs.index.IndexEngine.get_loc\u001b[0;34m()\u001b[0m\n",
      "File \u001b[0;32mpandas/_libs/hashtable_class_helper.pxi:5198\u001b[0m, in \u001b[0;36mpandas._libs.hashtable.PyObjectHashTable.get_item\u001b[0;34m()\u001b[0m\n",
      "File \u001b[0;32mpandas/_libs/hashtable_class_helper.pxi:5206\u001b[0m, in \u001b[0;36mpandas._libs.hashtable.PyObjectHashTable.get_item\u001b[0;34m()\u001b[0m\n",
      "\u001b[0;31mKeyError\u001b[0m: 'msg-message-id'",
      "\nThe above exception was the direct cause of the following exception:\n",
      "\u001b[0;31mKeyError\u001b[0m                                  Traceback (most recent call last)",
      "Input \u001b[0;32mIn [19]\u001b[0m, in \u001b[0;36m<cell line: 5>\u001b[0;34m()\u001b[0m\n\u001b[1;32m      3\u001b[0m df_bo \u001b[38;5;241m=\u001b[39m Queries\u001b[38;5;241m.\u001b[39mremove_text_wo_query(df_bo)\n\u001b[1;32m      4\u001b[0m df_bo \u001b[38;5;241m=\u001b[39m Queries\u001b[38;5;241m.\u001b[39mremove_query_wo_text(df_bo)\n\u001b[1;32m      5\u001b[0m mlist_bo \u001b[38;5;241m=\u001b[39m ListservMailList\u001b[38;5;241m.\u001b[39mfrom_pandas_dataframe(\n\u001b[0;32m----> 6\u001b[0m     df\u001b[38;5;241m=\u001b[39mmlist\u001b[38;5;241m.\u001b[39mdf[mlist\u001b[38;5;241m.\u001b[39mdf[\u001b[38;5;124m'\u001b[39m\u001b[38;5;124mmessage-id\u001b[39m\u001b[38;5;124m'\u001b[39m]\u001b[38;5;241m.\u001b[39misin(\u001b[43mdf_bo\u001b[49m\u001b[43m[\u001b[49m\u001b[38;5;124;43m'\u001b[39;49m\u001b[38;5;124;43mmsg-message-id\u001b[39;49m\u001b[38;5;124;43m'\u001b[39;49m\u001b[43m]\u001b[49m\u001b[38;5;241m.\u001b[39mvalues)],\n\u001b[1;32m      7\u001b[0m     name\u001b[38;5;241m=\u001b[39mmlist_name,\n\u001b[1;32m      8\u001b[0m )\n",
      "File \u001b[0;32m/opt/homebrew/lib/python3.10/site-packages/pandas/core/frame.py:3505\u001b[0m, in \u001b[0;36mDataFrame.__getitem__\u001b[0;34m(self, key)\u001b[0m\n\u001b[1;32m   3503\u001b[0m \u001b[38;5;28;01mif\u001b[39;00m \u001b[38;5;28mself\u001b[39m\u001b[38;5;241m.\u001b[39mcolumns\u001b[38;5;241m.\u001b[39mnlevels \u001b[38;5;241m>\u001b[39m \u001b[38;5;241m1\u001b[39m:\n\u001b[1;32m   3504\u001b[0m     \u001b[38;5;28;01mreturn\u001b[39;00m \u001b[38;5;28mself\u001b[39m\u001b[38;5;241m.\u001b[39m_getitem_multilevel(key)\n\u001b[0;32m-> 3505\u001b[0m indexer \u001b[38;5;241m=\u001b[39m \u001b[38;5;28;43mself\u001b[39;49m\u001b[38;5;241;43m.\u001b[39;49m\u001b[43mcolumns\u001b[49m\u001b[38;5;241;43m.\u001b[39;49m\u001b[43mget_loc\u001b[49m\u001b[43m(\u001b[49m\u001b[43mkey\u001b[49m\u001b[43m)\u001b[49m\n\u001b[1;32m   3506\u001b[0m \u001b[38;5;28;01mif\u001b[39;00m is_integer(indexer):\n\u001b[1;32m   3507\u001b[0m     indexer \u001b[38;5;241m=\u001b[39m [indexer]\n",
      "File \u001b[0;32m/opt/homebrew/lib/python3.10/site-packages/pandas/core/indexes/base.py:3623\u001b[0m, in \u001b[0;36mIndex.get_loc\u001b[0;34m(self, key, method, tolerance)\u001b[0m\n\u001b[1;32m   3621\u001b[0m     \u001b[38;5;28;01mreturn\u001b[39;00m \u001b[38;5;28mself\u001b[39m\u001b[38;5;241m.\u001b[39m_engine\u001b[38;5;241m.\u001b[39mget_loc(casted_key)\n\u001b[1;32m   3622\u001b[0m \u001b[38;5;28;01mexcept\u001b[39;00m \u001b[38;5;167;01mKeyError\u001b[39;00m \u001b[38;5;28;01mas\u001b[39;00m err:\n\u001b[0;32m-> 3623\u001b[0m     \u001b[38;5;28;01mraise\u001b[39;00m \u001b[38;5;167;01mKeyError\u001b[39;00m(key) \u001b[38;5;28;01mfrom\u001b[39;00m \u001b[38;5;21;01merr\u001b[39;00m\n\u001b[1;32m   3624\u001b[0m \u001b[38;5;28;01mexcept\u001b[39;00m \u001b[38;5;167;01mTypeError\u001b[39;00m:\n\u001b[1;32m   3625\u001b[0m     \u001b[38;5;66;03m# If we have a listlike key, _check_indexing_error will raise\u001b[39;00m\n\u001b[1;32m   3626\u001b[0m     \u001b[38;5;66;03m#  InvalidIndexError. Otherwise we fall through and re-raise\u001b[39;00m\n\u001b[1;32m   3627\u001b[0m     \u001b[38;5;66;03m#  the TypeError.\u001b[39;00m\n\u001b[1;32m   3628\u001b[0m     \u001b[38;5;28mself\u001b[39m\u001b[38;5;241m.\u001b[39m_check_indexing_error(key)\n",
      "\u001b[0;31mKeyError\u001b[0m: 'msg-message-id'"
     ]
    }
   ],
   "source": [
    "nonattachment_query_columns = [col for col in df_qu.columns if not col.startswith('attachment-')]\n",
    "df_bo = df.loc[:, nonattachment_query_columns]\n",
    "df_bo = Queries.remove_text_wo_query(df_bo)\n",
    "df_bo = Queries.remove_query_wo_text(df_bo)\n",
    "mlist_bo = ListservMailList.from_pandas_dataframe(\n",
    "    df=mlist.df[mlist.df['message-id'].isin(df_bo['msg-message-id'].values)],\n",
    "    name=mlist_name,\n",
    ")"
   ]
  },
  {
   "cell_type": "code",
   "execution_count": null,
   "id": "70904fc5-5c69-47c2-a641-804b667856c9",
   "metadata": {},
   "outputs": [],
   "source": []
  },
  {
   "cell_type": "code",
   "execution_count": null,
   "id": "furnished-terry",
   "metadata": {},
   "outputs": [],
   "source": [
    "cooccurrence = _df_kw.T.dot(_df_kw).values\n",
    "np.fill_diagonal(cooccurrence, 0)\n",
    "#cooccurrence = cooccurrence / np.max(cooccurrence)\n",
    "df_cooccurrence = pd.DataFrame(\n",
    "    cooccurrence,\n",
    "    index=keywords,\n",
    "    columns=keywords,\n",
    ")\n",
    "# re-scale\n",
    "df_cooccurrence = df_cooccurrence.apply(lambda x: x**(1/2))\n",
    "# mask upper-right triangle\n",
    "df_cooccurrence = df_cooccurrence.where(\n",
    "    np.tril(np.ones(df_cooccurrence.shape)).astype(np.bool)\n",
    ")"
   ]
  },
  {
   "cell_type": "code",
   "execution_count": null,
   "id": "nutritional-theater",
   "metadata": {},
   "outputs": [],
   "source": [
    "fig, ax = plt.subplots(\n",
    "    1, 1,\n",
    "    sharex=False, sharey=False,\n",
    "    figsize=(16, 16),\n",
    "    facecolor=\"w\",\n",
    "    edgecolor=\"k\",\n",
    ")\n",
    "fig.subplots_adjust(\n",
    "    hspace=0.0,\n",
    "    wspace=0.0,\n",
    ")\n",
    "\n",
    "hmap = sns.heatmap(\n",
    "    df_cooccurrence,\n",
    "    cmap=\"Spectral\",\n",
    "    square=True,\n",
    "    linewidths=0.5,\n",
    "    cbar_kws={\n",
    "        'label': r'$\\sqrt{\\epsilon}$, with $\\epsilon =$ co-occurrence count',\n",
    "        'shrink': 0.8,\n",
    "    },\n",
    ")\n",
    "\n",
    "ax.set_yticklabels(ax.get_yticklabels(), rotation=0)"
   ]
  },
  {
   "cell_type": "raw",
   "id": "0026aab6-e634-4133-b00f-d0cb696dba8f",
   "metadata": {},
   "source": [
    "# removed because of dubplicates\n",
    "\n",
    "Access Point\n",
    "Internet Access Provider\n",
    "Internet Service Provider\n",
    "Local Break Out\n",
    "Uniform Resource Identifier\n",
    "Uniform Resource Locator\n",
    "Uniform Resource Name\n",
    "WiFi Protected Access"
   ]
  }
 ],
 "metadata": {
  "kernelspec": {
   "display_name": "Python 3 (ipykernel)",
   "language": "python",
   "name": "python3"
  },
  "language_info": {
   "codemirror_mode": {
    "name": "ipython",
    "version": 3
   },
   "file_extension": ".py",
   "mimetype": "text/x-python",
   "name": "python",
   "nbconvert_exporter": "python",
   "pygments_lexer": "ipython3",
   "version": "3.10.2"
  }
 },
 "nbformat": 4,
 "nbformat_minor": 5
}
