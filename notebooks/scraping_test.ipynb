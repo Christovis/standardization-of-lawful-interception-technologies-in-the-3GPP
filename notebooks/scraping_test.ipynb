{
 "cells": [
  {
   "cell_type": "code",
   "execution_count": 46,
   "metadata": {},
   "outputs": [],
   "source": [
    "import time\n",
    "import glob\n",
    "import pandas as pd\n",
    "\n",
    "import requests\n",
    "\n",
    "import pytz\n",
    "import numpy as np\n",
    "import networkx as nx\n",
    "\n",
    "import mailbox\n",
    "import email\n",
    "\n",
    "import pylab\n",
    "from pylab import cm\n",
    "import matplotlib as mpl\n",
    "import matplotlib.pyplot as plt\n",
    "from matplotlib.pyplot import figure\n",
    "\n",
    "#from bigbang.analysis.listserv import ListservList\n",
    "from tgpp.config.config import CONFIG\n",
    "\n",
    "plt.style.use(\"publication_jcap.mplstyle\")"
   ]
  },
  {
   "cell_type": "code",
   "execution_count": 2,
   "metadata": {},
   "outputs": [],
   "source": [
    "import PyPDF2\n",
    "\n",
    "def _read_pdf(data: str, source: str) -> str:\n",
    "    text = []\n",
    "    pdf = PyPDF2.PdfFileReader(data)\n",
    "    for page_nr, page in enumerate(range(pdf.getNumPages())):\n",
    "        try:\n",
    "            text.append(pdf.getPage(page).extractText())\n",
    "        except Exception:\n",
    "            logger.info(f\"For {source} page number {page_nr} couldn't be read\")\n",
    "            continue\n",
    "    return (\" \").join(text)\n",
    "\n",
    "\n",
    "file_path = \"/Users/christovis/Documents/InternetGovernance/proj1_3gpp_and_comp/standardization-of-lawful-interception-technologies-in-the-3GPP/data/reference_set/ts_133107v140200p.pdf\"\n",
    "text = _read_pdf(open(file_path, 'rb'), file_path)"
   ]
  },
  {
   "cell_type": "code",
   "execution_count": 4,
   "metadata": {},
   "outputs": [
    {
     "data": {
      "text/plain": [
       "{'\"xuxiaodong@chinamobile.com\" <xuxiaodong@CHINAMOBILE.COM>': \"('xuxiaodong@chinamobile.com', 'xuxiaodong', 'chinamobile.com')\",\n",
       " 'Jacob John <jacobjohn@MOTOROLA.COM>': \"('jacob john', 'jacobjohn', 'motorola.com')\",\n",
       " '\"Wuyuchun (Wu Yuchun, Hisilicon)\" <wuyuchun@HUAWEI.COM>': \"('wuyuchun (wu yuchun, hisilicon)', 'wuyuchun', 'huawei.com')\",\n",
       " 'xingjinqiang@chinamobile.com xingjinqiang@chinamobile.com': \"(null, 'xingjinqiang', 'chinamobile.com')\",\n",
       " 'abdul rasheed m d rasheed@motorola.com': \"('abdul rasheed m d', 'rasheed', 'motorola.com')\",\n",
       " 'fredrik =?utf-8?q?sundstr=c3=b6m?= fredrik.sundstrom@ericsson.com': \"('fredrik =?utf-8?q?sundstr=c3=b6m?=', 'fredrik.sundstrom', 'ericsson.com')\",\n",
       " 'guozhili guozhili@starpointcomm.com': \"('guozhili', 'guozhili', 'starpointcomm.com')\",\n",
       " '=?utf-8?b?runjvc3lvkdnu6flrr4=?= zhangjibin@ecit.org.cn': \"('=?utf-8?b?runjvc3lvkdnu6flrr4=?=', 'zhangjibin', 'ecit.org.cn')\",\n",
       " 'Xueming Pan <<a href=\"/scripts/wa.exe?LOGON=A2%3D3GPP_TSG_RAN%3B82086c35.2012B%26S%3D&amp\" target=\"_parent\">[log in to unmask]</a>> <a href=\"/scripts/wa.exe?LOGON=A2%3D3GPP_TSG_RAN%3B82086c35.2012B%26S%3D&amp\" target=\"_parent\" /a': '(null, null, null)',\n",
       " '\"Yanyali (Yali)\" <yanyali@HUAWEI.COM>, Guchunying <guchunying@HUAWEI.COM>, Ingbert Sigovich <Ingbert.Sigovich@ETSI.ORG>': [{1: ['yanyali (yali)',\n",
       "    'yanyali',\n",
       "    'huawei.com']},\n",
       "  {2: ['guchunying', 'guchunying', 'huawei.com']},\n",
       "  {3: ['ingbert sigovich', 'ingbert.sigovich', 'etsi.org']}]}"
      ]
     },
     "execution_count": 4,
     "metadata": {},
     "output_type": "execute_result"
    }
   ],
   "source": [
    "import yaml\n",
    "\n",
    "filepath = \"/home/christovis/InternetGov/bigbang/tests/data/address_header_test_file.yaml\"\n",
    "with open(filepath, \"r\") as stream:\n",
    "    addresses = yaml.safe_load(stream)\n",
    "    \n",
    "addresses"
   ]
  },
  {
   "cell_type": "code",
   "execution_count": 41,
   "metadata": {},
   "outputs": [
    {
     "name": "stdout",
     "output_type": "stream",
     "text": [
      "['xuxiaodong@chinamobile.com', 'xuxiaodong', 'chinamobile.com']\n",
      "['jacob john', 'jacobjohn', 'motorola.com']\n",
      "['wuyuchun (wu yuchun, hisilicon)', 'wuyuchun', 'huawei.com']\n",
      "['abdul rasheed m d', 'rasheed', 'motorola.com']\n",
      "['fredrik =?utf-8?q?sundstr=c3=b6m?=', 'fredrik.sundstrom', 'ericsson.com']\n",
      "['guozhili', 'guozhili', 'starpointcomm.com']\n",
      "['=?utf-8?b?runjvc3lvkdnu6flrr4=?=', 'zhangjibin', 'ecit.org.cn']\n"
     ]
    }
   ],
   "source": [
    "for key, values in addresses.items():\n",
    "    try:\n",
    "        res = [s.lower() for s in list(values.values())]\n",
    "        print(res)\n",
    "    except:\n",
    "        continue"
   ]
  },
  {
   "cell_type": "code",
   "execution_count": null,
   "metadata": {},
   "outputs": [],
   "source": []
  },
  {
   "cell_type": "code",
   "execution_count": null,
   "metadata": {},
   "outputs": [],
   "source": []
  },
  {
   "cell_type": "code",
   "execution_count": 7,
   "metadata": {},
   "outputs": [],
   "source": [
    "import yaml\n",
    "with open(\"/home/christovis/InternetGov/bigbang/tests/data/address_header_test_file.yaml\", \"r\") as stream:\n",
    "    try:\n",
    "        emails = yaml.safe_load(stream)\n",
    "    except yaml.YAMLError as exc:\n",
    "        print(exc)"
   ]
  },
  {
   "cell_type": "code",
   "execution_count": 24,
   "metadata": {},
   "outputs": [],
   "source": [
    "import bigbang.domain as domain\n",
    "\n",
    "def get_froms(data):\n",
    "    \"\"\"\n",
    "    Returns a dataframe with a row for every message of the archive, containing\n",
    "    column entries for:\n",
    "     - The From field of the email\n",
    "     - The email address extracted from the From field\n",
    "     - The domain of the From field\n",
    "    This dataframe is computed the first time this method is called and then cached.\n",
    "    Returns\n",
    "    ----------\n",
    "    froms: pandas.DataFrame\n",
    "    \"\"\"\n",
    "    emails = data.apply(domain.extract_email)\n",
    "    domains = data.apply(domain.extract_domain)\n",
    "    froms = pd.concat(\n",
    "        [data, emails, domains],\n",
    "        axis=1,\n",
    "        keys=[\"From\", \"email\", \"domain\"],\n",
    "    )\n",
    "    return froms\n",
    "\n",
    "froms = get_froms(pd.Series(list(emails.keys())))"
   ]
  },
  {
   "cell_type": "code",
   "execution_count": null,
   "metadata": {},
   "outputs": [],
   "source": [
    "## mlist_name = \"3GPP_TSG_SA_WG6\"\n",
    "mlist = ListservList.from_mbox(\n",
    "    name=mlist_name,\n",
    "    filepath=f\"/home/christovis/InternetGov/bigbang-archives/3GPP/{mlist_name}.mbox\",\n",
    "    include_body=True,\n",
    ")"
   ]
  },
  {
   "cell_type": "code",
   "execution_count": 30,
   "metadata": {},
   "outputs": [
    {
     "data": {
      "text/plain": [
       "[datetime.datetime(2016, 3, 14, 10, 7, 22, tzinfo=datetime.timezone.utc),\n",
       " datetime.datetime(2017, 2, 27, 8, 4, 27, tzinfo=datetime.timezone.utc)]"
      ]
     },
     "execution_count": 30,
     "metadata": {},
     "output_type": "execute_result"
    }
   ],
   "source": [
    "mlist.period_of_activity()"
   ]
  },
  {
   "cell_type": "code",
   "execution_count": 31,
   "metadata": {},
   "outputs": [
    {
     "data": {
      "text/plain": [
       "{'from': 26}"
      ]
     },
     "execution_count": 31,
     "metadata": {},
     "output_type": "execute_result"
    }
   ],
   "source": [
    "mlist.get_domainscount(header_fields=['from'])"
   ]
  },
  {
   "cell_type": "code",
   "execution_count": 5,
   "metadata": {},
   "outputs": [
    {
     "data": {
      "text/html": [
       "<div>\n",
       "<style scoped>\n",
       "    .dataframe tbody tr th:only-of-type {\n",
       "        vertical-align: middle;\n",
       "    }\n",
       "\n",
       "    .dataframe tbody tr th {\n",
       "        vertical-align: top;\n",
       "    }\n",
       "\n",
       "    .dataframe thead th {\n",
       "        text-align: right;\n",
       "    }\n",
       "</style>\n",
       "<table border=\"1\" class=\"dataframe\">\n",
       "  <thead>\n",
       "    <tr style=\"text-align: right;\">\n",
       "      <th></th>\n",
       "      <th>from</th>\n",
       "      <th>comments-to</th>\n",
       "    </tr>\n",
       "  </thead>\n",
       "  <tbody>\n",
       "    <tr>\n",
       "      <th>0</th>\n",
       "      <td>tomas =?utf-8?q?toftg=c3=a5rd?= &lt;tomas.toftgar...</td>\n",
       "      <td>milan.jelinek@usherbrooke.ca &lt;milan.jelinek@us...</td>\n",
       "    </tr>\n",
       "    <tr>\n",
       "      <th>1</th>\n",
       "      <td>milan jelinek &lt;milan.jelinek@usherbrooke.ca&gt;</td>\n",
       "      <td>tomas =?utf-8?q?toftg=c3=a5rd?= &lt;tomas.toftgar...</td>\n",
       "    </tr>\n",
       "    <tr>\n",
       "      <th>2</th>\n",
       "      <td>tomas =?utf-8?q?toftg=c3=a5rd?= &lt;tomas.toftgar...</td>\n",
       "      <td>imre varga &lt;ivarga@qti.qualcomm.com&gt;</td>\n",
       "    </tr>\n",
       "    <tr>\n",
       "      <th>3</th>\n",
       "      <td>imre varga &lt;ivarga@qti.qualcomm.com&gt;</td>\n",
       "      <td>milan.jelinek@usherbrooke.ca &lt;milan.jelinek@us...</td>\n",
       "    </tr>\n",
       "    <tr>\n",
       "      <th>4</th>\n",
       "      <td>milan jelinek &lt;milan.jelinek@usherbrooke.ca&gt;</td>\n",
       "      <td>imre varga &lt;ivarga@qti.qualcomm.com&gt;</td>\n",
       "    </tr>\n",
       "    <tr>\n",
       "      <th>5</th>\n",
       "      <td>imre varga &lt;ivarga@qti.qualcomm.com&gt;</td>\n",
       "      <td>milan.jelinek@usherbrooke.ca &lt;milan.jelinek@us...</td>\n",
       "    </tr>\n",
       "    <tr>\n",
       "      <th>12</th>\n",
       "      <td>szczerba marek &lt;marek.szczerba@philips.com&gt;</td>\n",
       "      <td>imre varga &lt;ivarga@qti.qualcomm.com&gt;cc: bont f...</td>\n",
       "    </tr>\n",
       "    <tr>\n",
       "      <th>16</th>\n",
       "      <td>huan-yu su &lt;hs@qosound.com&gt;</td>\n",
       "      <td>imre varga &lt;ivarga@qti.qualcomm.com&gt;</td>\n",
       "    </tr>\n",
       "    <tr>\n",
       "      <th>17</th>\n",
       "      <td>multrus markus &lt;markus.multrus@iis.fraunhofer.de&gt;</td>\n",
       "      <td>imre varga &lt;ivarga@qti.qualcomm.com&gt;</td>\n",
       "    </tr>\n",
       "    <tr>\n",
       "      <th>18</th>\n",
       "      <td>stefan =?utf-8?q?d=c3=b6hla?= &lt;stefan.doehla@i...</td>\n",
       "      <td>imre varga &lt;ivarga@qti.qualcomm.com&gt;</td>\n",
       "    </tr>\n",
       "    <tr>\n",
       "      <th>25</th>\n",
       "      <td>milan jelinek &lt;milan.jelinek@usherbrooke.ca&gt;</td>\n",
       "      <td>nikolai leung &lt;nleung@qti.qualcomm.com&gt;</td>\n",
       "    </tr>\n",
       "    <tr>\n",
       "      <th>29</th>\n",
       "      <td>jayeeta saha &lt;jayeeta.saha@3gpp.org&gt;</td>\n",
       "      <td>3gpp_tsg_sa_wg4_sq &lt;3gpp_tsg_sa_wg4_sq@list.et...</td>\n",
       "    </tr>\n",
       "    <tr>\n",
       "      <th>30</th>\n",
       "      <td>jayeeta saha &lt;jayeeta.saha@3gpp.org&gt;</td>\n",
       "      <td>3gpp_tsg_sa_wg4_video &lt;3gpp_tsg_sa_wg4_video@l...</td>\n",
       "    </tr>\n",
       "    <tr>\n",
       "      <th>32</th>\n",
       "      <td>jayeeta saha &lt;jayeeta.saha@3gpp.org&gt;</td>\n",
       "      <td>imre varga &lt;ivarga@qti.qualcomm.com&gt;</td>\n",
       "    </tr>\n",
       "    <tr>\n",
       "      <th>42</th>\n",
       "      <td>jayeeta saha &lt;jayeeta.saha@3gpp.org&gt;</td>\n",
       "      <td>3gpp_tsg_sa_wg4 &lt;3gpp_tsg_sa_wg4@list.etsi.org&gt;</td>\n",
       "    </tr>\n",
       "    <tr>\n",
       "      <th>43</th>\n",
       "      <td>kyunghun jung &lt;kyunghun.jung@samsung.com&gt;</td>\n",
       "      <td>3gpp_tsg_sa_wg4_video@list.etsi.org &lt;3gpp_tsg_...</td>\n",
       "    </tr>\n",
       "    <tr>\n",
       "      <th>44</th>\n",
       "      <td>jayeeta saha &lt;jayeeta.saha@3gpp.org&gt;</td>\n",
       "      <td>3gpp_tsg_sa_wg4_mbs &lt;3gpp_tsg_sa_wg4_mbs@list....</td>\n",
       "    </tr>\n",
       "    <tr>\n",
       "      <th>47</th>\n",
       "      <td>jayeeta saha &lt;jayeeta.saha@3gpp.org&gt;</td>\n",
       "      <td>3gpp_tsg_sa_wg4 &lt;3gpp_tsg_sa_wg4@list.etsi.org...</td>\n",
       "    </tr>\n",
       "    <tr>\n",
       "      <th>48</th>\n",
       "      <td>jayeeta saha &lt;jayeeta.saha@3gpp.org&gt;</td>\n",
       "      <td>3gpp_tsg_sa_wg4_video &lt;3gpp_tsg_sa_wg4_video@l...</td>\n",
       "    </tr>\n",
       "    <tr>\n",
       "      <th>49</th>\n",
       "      <td>jayeeta saha &lt;jayeeta.saha@3gpp.org&gt;</td>\n",
       "      <td>3gpp_tsg_sa_wg4_video &lt;3gpp_tsg_sa_wg4_video@l...</td>\n",
       "    </tr>\n",
       "  </tbody>\n",
       "</table>\n",
       "</div>"
      ],
      "text/plain": [
       "                                                 from  \\\n",
       "0   tomas =?utf-8?q?toftg=c3=a5rd?= <tomas.toftgar...   \n",
       "1        milan jelinek <milan.jelinek@usherbrooke.ca>   \n",
       "2   tomas =?utf-8?q?toftg=c3=a5rd?= <tomas.toftgar...   \n",
       "3                imre varga <ivarga@qti.qualcomm.com>   \n",
       "4        milan jelinek <milan.jelinek@usherbrooke.ca>   \n",
       "5                imre varga <ivarga@qti.qualcomm.com>   \n",
       "12        szczerba marek <marek.szczerba@philips.com>   \n",
       "16                        huan-yu su <hs@qosound.com>   \n",
       "17  multrus markus <markus.multrus@iis.fraunhofer.de>   \n",
       "18  stefan =?utf-8?q?d=c3=b6hla?= <stefan.doehla@i...   \n",
       "25       milan jelinek <milan.jelinek@usherbrooke.ca>   \n",
       "29               jayeeta saha <jayeeta.saha@3gpp.org>   \n",
       "30               jayeeta saha <jayeeta.saha@3gpp.org>   \n",
       "32               jayeeta saha <jayeeta.saha@3gpp.org>   \n",
       "42               jayeeta saha <jayeeta.saha@3gpp.org>   \n",
       "43          kyunghun jung <kyunghun.jung@samsung.com>   \n",
       "44               jayeeta saha <jayeeta.saha@3gpp.org>   \n",
       "47               jayeeta saha <jayeeta.saha@3gpp.org>   \n",
       "48               jayeeta saha <jayeeta.saha@3gpp.org>   \n",
       "49               jayeeta saha <jayeeta.saha@3gpp.org>   \n",
       "\n",
       "                                          comments-to  \n",
       "0   milan.jelinek@usherbrooke.ca <milan.jelinek@us...  \n",
       "1   tomas =?utf-8?q?toftg=c3=a5rd?= <tomas.toftgar...  \n",
       "2                imre varga <ivarga@qti.qualcomm.com>  \n",
       "3   milan.jelinek@usherbrooke.ca <milan.jelinek@us...  \n",
       "4                imre varga <ivarga@qti.qualcomm.com>  \n",
       "5   milan.jelinek@usherbrooke.ca <milan.jelinek@us...  \n",
       "12  imre varga <ivarga@qti.qualcomm.com>cc: bont f...  \n",
       "16               imre varga <ivarga@qti.qualcomm.com>  \n",
       "17               imre varga <ivarga@qti.qualcomm.com>  \n",
       "18               imre varga <ivarga@qti.qualcomm.com>  \n",
       "25            nikolai leung <nleung@qti.qualcomm.com>  \n",
       "29  3gpp_tsg_sa_wg4_sq <3gpp_tsg_sa_wg4_sq@list.et...  \n",
       "30  3gpp_tsg_sa_wg4_video <3gpp_tsg_sa_wg4_video@l...  \n",
       "32               imre varga <ivarga@qti.qualcomm.com>  \n",
       "42    3gpp_tsg_sa_wg4 <3gpp_tsg_sa_wg4@list.etsi.org>  \n",
       "43  3gpp_tsg_sa_wg4_video@list.etsi.org <3gpp_tsg_...  \n",
       "44  3gpp_tsg_sa_wg4_mbs <3gpp_tsg_sa_wg4_mbs@list....  \n",
       "47  3gpp_tsg_sa_wg4 <3gpp_tsg_sa_wg4@list.etsi.org...  \n",
       "48  3gpp_tsg_sa_wg4_video <3gpp_tsg_sa_wg4_video@l...  \n",
       "49  3gpp_tsg_sa_wg4_video <3gpp_tsg_sa_wg4_video@l...  "
      ]
     },
     "execution_count": 5,
     "metadata": {},
     "output_type": "execute_result"
    }
   ],
   "source": [
    "mlist.df[[\"from\", \"comments-to\"]].dropna()"
   ]
  },
  {
   "cell_type": "code",
   "execution_count": 4,
   "metadata": {},
   "outputs": [],
   "source": [
    "file_auth = CONFIG.config_path + \"authentication.yaml\"\n",
    "\n",
    "mlist = ListservList.from_mbox(\n",
    "    name=\"3GPP_TSG_SA_WG4_EVS\",\n",
    "    filepath=CONFIG.test_data_path + \"3GPP_mbox/3GPP_TSG_SA_WG4_EVS.mbox\",\n",
    ")\n",
    "\n",
    "march = ListservArchive.from_mbox(\n",
    "    name=\"3GPP\",\n",
    "    directorypath=CONFIG.test_data_path + \"3GPP_mbox/\",\n",
    "    filedsc=\"3GPP_TSG_*\",\n",
    ")"
   ]
  },
  {
   "cell_type": "code",
   "execution_count": 29,
   "metadata": {},
   "outputs": [
    {
     "data": {
      "text/plain": [
       "array([['tomas =?utf-8?q?toftg=c3=a5rd?= <tomas.toftgard@ericsson.com>'],\n",
       "       ['milan jelinek <milan.jelinek@usherbrooke.ca>'],\n",
       "       ['tomas =?utf-8?q?toftg=c3=a5rd?= <tomas.toftgard@ericsson.com>'],\n",
       "       ['imre varga <ivarga@qti.qualcomm.com>'],\n",
       "       ['milan jelinek <milan.jelinek@usherbrooke.ca>'],\n",
       "       ['imre varga <ivarga@qti.qualcomm.com>'],\n",
       "       ['milan jelinek <milan.jelinek@usherbrooke.ca>'],\n",
       "       ['huan-yu su <hs@qosound.com>'],\n",
       "       ['multrus markus <markus.multrus@iis.fraunhofer.de>'],\n",
       "       ['bruhn stefan <stefan.bruhn@dolby.com>'],\n",
       "       ['huan-yu su <hs@qosound.com>'],\n",
       "       ['bruhn stefan <stefan.bruhn@dolby.com>'],\n",
       "       ['szczerba marek <marek.szczerba@philips.com>'],\n",
       "       ['imre varga <ivarga@qti.qualcomm.com>'],\n",
       "       ['bruhn stefan <stefan.bruhn@dolby.com>'],\n",
       "       ['imre varga <ivarga@qti.qualcomm.com>'],\n",
       "       ['huan-yu su <hs@qosound.com>'],\n",
       "       ['multrus markus <markus.multrus@iis.fraunhofer.de>'],\n",
       "       ['stefan =?utf-8?q?d=c3=b6hla?= <stefan.doehla@iis.fraunhofer.de>'],\n",
       "       ['imre varga <ivarga@qti.qualcomm.com>'],\n",
       "       ['tomas =?utf-8?q?toftg=c3=a5rd?= <tomas.toftgard@ericsson.com>'],\n",
       "       ['huan-yu su <hs@qosound.com>'],\n",
       "       ['huan-yu su <hs@qosound.com>'],\n",
       "       ['nikolai leung <nleung@qti.qualcomm.com>'],\n",
       "       ['imre varga <ivarga@qti.qualcomm.com>'],\n",
       "       ['milan jelinek <milan.jelinek@usherbrooke.ca>'],\n",
       "       ['nikolai leung <nleung@qti.qualcomm.com>'],\n",
       "       ['nikolai leung <nleung@qti.qualcomm.com>'],\n",
       "       ['imre varga <ivarga@qti.qualcomm.com>'],\n",
       "       ['jayeeta saha <jayeeta.saha@3gpp.org>'],\n",
       "       ['jayeeta saha <jayeeta.saha@3gpp.org>'],\n",
       "       ['imre varga <ivarga@qti.qualcomm.com>'],\n",
       "       ['jayeeta saha <jayeeta.saha@3gpp.org>'],\n",
       "       ['imre varga <ivarga@qti.qualcomm.com>'],\n",
       "       ['imre varga <ivarga@qti.qualcomm.com>'],\n",
       "       ['jayeeta saha <jayeeta.saha@3gpp.org>'],\n",
       "       ['jayeeta saha <jayeeta.saha@3gpp.org>'],\n",
       "       ['jayeeta saha <jayeeta.saha@3gpp.org>'],\n",
       "       ['jayeeta saha <jayeeta.saha@3gpp.org>'],\n",
       "       ['jayeeta saha <jayeeta.saha@3gpp.org>'],\n",
       "       ['jayeeta saha <jayeeta.saha@3gpp.org>'],\n",
       "       ['jayeeta saha <jayeeta.saha@3gpp.org>'],\n",
       "       ['jayeeta saha <jayeeta.saha@3gpp.org>'],\n",
       "       ['kyunghun jung <kyunghun.jung@samsung.com>'],\n",
       "       ['jayeeta saha <jayeeta.saha@3gpp.org>'],\n",
       "       ['huan-yu su <hs@qosound.com>'],\n",
       "       ['jayeeta saha <jayeeta.saha@3gpp.org>'],\n",
       "       ['jayeeta saha <jayeeta.saha@3gpp.org>'],\n",
       "       ['jayeeta saha <jayeeta.saha@3gpp.org>'],\n",
       "       ['jayeeta saha <jayeeta.saha@3gpp.org>']], dtype=object)"
      ]
     },
     "execution_count": 29,
     "metadata": {},
     "output_type": "execute_result"
    }
   ],
   "source": [
    "mlist.df[['from']].values"
   ]
  },
  {
   "cell_type": "code",
   "execution_count": 33,
   "metadata": {},
   "outputs": [
    {
     "data": {
      "text/plain": [
       "array(['Re: Information related to EVS SWG Sessions during SA4#115e meeting',\n",
       "       'Information related to EVS SWG Sessions during SA4#115e meeting',\n",
       "       'Information related to EVS SWG Sessions during SA4#114e meeting'],\n",
       "      dtype=object)"
      ]
     },
     "execution_count": 33,
     "metadata": {},
     "output_type": "execute_result"
    }
   ],
   "source": [
    "mlist.crop_by_subject(match=\"EVS SWG Sessions\", place=0).df['subject'].values"
   ]
  },
  {
   "cell_type": "code",
   "execution_count": null,
   "metadata": {},
   "outputs": [],
   "source": []
  }
 ],
 "metadata": {
  "kernelspec": {
   "display_name": "Python 3 (ipykernel)",
   "language": "python",
   "name": "python3"
  },
  "language_info": {
   "codemirror_mode": {
    "name": "ipython",
    "version": 3
   },
   "file_extension": ".py",
   "mimetype": "text/x-python",
   "name": "python",
   "nbconvert_exporter": "python",
   "pygments_lexer": "ipython3",
   "version": "3.10.2"
  }
 },
 "nbformat": 4,
 "nbformat_minor": 4
}
