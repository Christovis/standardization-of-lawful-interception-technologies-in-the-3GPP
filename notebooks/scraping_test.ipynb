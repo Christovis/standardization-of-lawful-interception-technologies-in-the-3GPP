{
 "cells": [
  {
   "cell_type": "code",
   "execution_count": 1,
   "metadata": {},
   "outputs": [],
   "source": [
    "import time\n",
    "import glob\n",
    "import pandas as pd\n",
    "\n",
    "import requests\n",
    "\n",
    "import pytz\n",
    "import numpy as np\n",
    "import networkx as nx\n",
    "\n",
    "import mailbox\n",
    "import email\n",
    "\n",
    "import pylab\n",
    "from pylab import cm\n",
    "import matplotlib as mpl\n",
    "import matplotlib.pyplot as plt\n",
    "from matplotlib.pyplot import figure\n",
    "\n",
    "#from bigbang.analysis.listserv import ListservList\n",
    "from tgpp.config.config import CONFIG\n",
    "\n",
    "plt.style.use(\"publication_jcap.mplstyle\")"
   ]
  },
  {
   "cell_type": "code",
   "execution_count": 10,
   "metadata": {},
   "outputs": [],
   "source": [
    "box = mailbox.mbox('/Users/christovis/test.mbox', create=False)\n",
    "mlist = []\n",
    "for msg in list(box.values()):\n",
    "    _msg = dict(msg)\n",
    "    if msg.is_multipart():\n",
    "        # if message has many submessages, only get the top one\n",
    "        # TODO: it does not detect that\n",
    "        # https://list.etsi.org/scripts/wa.exe?A2=3GPP_TSG_SA_WG3_LI;6b0e2163.2008B&S=\n",
    "        # is multipart\n",
    "        payloads = msg.get_payload()\n",
    "        _msg[\"body\"] = str(payloads[0].get_payload(decode=True))\n",
    "    else:\n",
    "        _msg[\"body\"] = str(msg.get_payload(decode=True))\n",
    "    mlist.append(_msg)\n",
    "    \n",
    "df = pd.DataFrame(mlist)"
   ]
  },
  {
   "cell_type": "code",
   "execution_count": 11,
   "metadata": {},
   "outputs": [
    {
     "data": {
      "text/html": [
       "<div>\n",
       "<style scoped>\n",
       "    .dataframe tbody tr th:only-of-type {\n",
       "        vertical-align: middle;\n",
       "    }\n",
       "\n",
       "    .dataframe tbody tr th {\n",
       "        vertical-align: top;\n",
       "    }\n",
       "\n",
       "    .dataframe thead th {\n",
       "        text-align: right;\n",
       "    }\n",
       "</style>\n",
       "<table border=\"1\" class=\"dataframe\">\n",
       "  <thead>\n",
       "    <tr style=\"text-align: right;\">\n",
       "      <th></th>\n",
       "      <th>Content-Transfer-Encoding</th>\n",
       "      <th>MIME-Version</th>\n",
       "      <th>sender</th>\n",
       "      <th>date</th>\n",
       "      <th>reply-to</th>\n",
       "      <th>subject</th>\n",
       "      <th>message-id</th>\n",
       "      <th>in-reply-to</th>\n",
       "      <th>Content-Type</th>\n",
       "      <th>from</th>\n",
       "      <th>Archived-At</th>\n",
       "      <th>Attachment-0</th>\n",
       "      <th>body</th>\n",
       "    </tr>\n",
       "  </thead>\n",
       "  <tbody>\n",
       "    <tr>\n",
       "      <th>0</th>\n",
       "      <td>quoted-printable</td>\n",
       "      <td>1.0</td>\n",
       "      <td>\"3gpp_tsg_sa_wg3_li:   (tsg sa wg3 lawful inte...</td>\n",
       "      <td>Sat, 26 Feb 2022 14:29:06 +0000</td>\n",
       "      <td>alex.leadbeater@BT.COM</td>\n",
       "      <td>'Re: Draft Agenda SA3#84-LI-e-b (Draft B)'</td>\n",
       "      <td>&lt;LO2P123MB4973CD3050D088FAA1A77F4D943F9@LO2P12...</td>\n",
       "      <td>&lt;LO2P123MB49734D410320BFEB1AD8180B943D9@LO2P12...</td>\n",
       "      <td>text/plain; charset=\"utf-8\"; MIME-Version=\"1.0...</td>\n",
       "      <td>Alex Leadbeater &lt;alex.leadbeater@BT.COM&gt;</td>\n",
       "      <td>&lt;https://list.etsi.org/scripts/wa.exe?A2=3GPP_...</td>\n",
       "      <td>3GPP TSG-SA3LI Meeting #84e-b S3i220102 draft ...</td>\n",
       "      <td>b'Hi All,\\n\\nAttached is draft B adding a coup...</td>\n",
       "    </tr>\n",
       "  </tbody>\n",
       "</table>\n",
       "</div>"
      ],
      "text/plain": [
       "  Content-Transfer-Encoding MIME-Version  \\\n",
       "0          quoted-printable          1.0   \n",
       "\n",
       "                                              sender  \\\n",
       "0  \"3gpp_tsg_sa_wg3_li:   (tsg sa wg3 lawful inte...   \n",
       "\n",
       "                              date                reply-to  \\\n",
       "0  Sat, 26 Feb 2022 14:29:06 +0000  alex.leadbeater@BT.COM   \n",
       "\n",
       "                                      subject  \\\n",
       "0  'Re: Draft Agenda SA3#84-LI-e-b (Draft B)'   \n",
       "\n",
       "                                          message-id  \\\n",
       "0  <LO2P123MB4973CD3050D088FAA1A77F4D943F9@LO2P12...   \n",
       "\n",
       "                                         in-reply-to  \\\n",
       "0  <LO2P123MB49734D410320BFEB1AD8180B943D9@LO2P12...   \n",
       "\n",
       "                                        Content-Type  \\\n",
       "0  text/plain; charset=\"utf-8\"; MIME-Version=\"1.0...   \n",
       "\n",
       "                                       from  \\\n",
       "0  Alex Leadbeater <alex.leadbeater@BT.COM>   \n",
       "\n",
       "                                         Archived-At  \\\n",
       "0  <https://list.etsi.org/scripts/wa.exe?A2=3GPP_...   \n",
       "\n",
       "                                        Attachment-0  \\\n",
       "0  3GPP TSG-SA3LI Meeting #84e-b S3i220102 draft ...   \n",
       "\n",
       "                                                body  \n",
       "0  b'Hi All,\\n\\nAttached is draft B adding a coup...  "
      ]
     },
     "execution_count": 11,
     "metadata": {},
     "output_type": "execute_result"
    }
   ],
   "source": [
    "df[]"
   ]
  },
  {
   "cell_type": "code",
   "execution_count": 16,
   "metadata": {},
   "outputs": [
    {
     "ename": "KeyboardInterrupt",
     "evalue": "",
     "output_type": "error",
     "traceback": [
      "\u001b[0;31m---------------------------------------------------------------------------\u001b[0m",
      "\u001b[0;31mKeyboardInterrupt\u001b[0m                         Traceback (most recent call last)",
      "Input \u001b[0;32mIn [16]\u001b[0m, in \u001b[0;36m<cell line: 16>\u001b[0;34m()\u001b[0m\n\u001b[1;32m     12\u001b[0m     \u001b[38;5;28;01mreturn\u001b[39;00m (\u001b[38;5;124m\"\u001b[39m\u001b[38;5;124m \u001b[39m\u001b[38;5;124m\"\u001b[39m)\u001b[38;5;241m.\u001b[39mjoin(text)\n\u001b[1;32m     15\u001b[0m file_path \u001b[38;5;241m=\u001b[39m \u001b[38;5;124m\"\u001b[39m\u001b[38;5;124m/Users/christovis/Documents/InternetGovernance/proj1_3gpp_and_comp/standardization-of-lawful-interception-technologies-in-the-3GPP/data/reference_set/ts_133107v140200p.pdf\u001b[39m\u001b[38;5;124m\"\u001b[39m\n\u001b[0;32m---> 16\u001b[0m text \u001b[38;5;241m=\u001b[39m \u001b[43m_read_pdf\u001b[49m\u001b[43m(\u001b[49m\u001b[38;5;28;43mopen\u001b[39;49m\u001b[43m(\u001b[49m\u001b[43mfile_path\u001b[49m\u001b[43m,\u001b[49m\u001b[43m \u001b[49m\u001b[38;5;124;43m'\u001b[39;49m\u001b[38;5;124;43mrb\u001b[39;49m\u001b[38;5;124;43m'\u001b[39;49m\u001b[43m)\u001b[49m\u001b[43m,\u001b[49m\u001b[43m \u001b[49m\u001b[43mfile_path\u001b[49m\u001b[43m)\u001b[49m\n",
      "Input \u001b[0;32mIn [16]\u001b[0m, in \u001b[0;36m_read_pdf\u001b[0;34m(data, source)\u001b[0m\n\u001b[1;32m      6\u001b[0m \u001b[38;5;28;01mfor\u001b[39;00m page_nr, page \u001b[38;5;129;01min\u001b[39;00m \u001b[38;5;28menumerate\u001b[39m(\u001b[38;5;28mrange\u001b[39m(pdf\u001b[38;5;241m.\u001b[39mgetNumPages())):\n\u001b[1;32m      7\u001b[0m     \u001b[38;5;28;01mtry\u001b[39;00m:\n\u001b[0;32m----> 8\u001b[0m         text\u001b[38;5;241m.\u001b[39mappend(\u001b[43mpdf\u001b[49m\u001b[38;5;241;43m.\u001b[39;49m\u001b[43mgetPage\u001b[49m\u001b[43m(\u001b[49m\u001b[43mpage\u001b[49m\u001b[43m)\u001b[49m\u001b[38;5;241;43m.\u001b[39;49m\u001b[43mextractText\u001b[49m\u001b[43m(\u001b[49m\u001b[43m)\u001b[49m)\n\u001b[1;32m      9\u001b[0m     \u001b[38;5;28;01mexcept\u001b[39;00m \u001b[38;5;167;01mException\u001b[39;00m:\n\u001b[1;32m     10\u001b[0m         logger\u001b[38;5;241m.\u001b[39minfo(\u001b[38;5;124mf\u001b[39m\u001b[38;5;124m\"\u001b[39m\u001b[38;5;124mFor \u001b[39m\u001b[38;5;132;01m{\u001b[39;00msource\u001b[38;5;132;01m}\u001b[39;00m\u001b[38;5;124m page number \u001b[39m\u001b[38;5;132;01m{\u001b[39;00mpage_nr\u001b[38;5;132;01m}\u001b[39;00m\u001b[38;5;124m couldn\u001b[39m\u001b[38;5;124m'\u001b[39m\u001b[38;5;124mt be read\u001b[39m\u001b[38;5;124m\"\u001b[39m)\n",
      "File \u001b[0;32m/opt/homebrew/lib/python3.10/site-packages/PyPDF2/pdf.py:2595\u001b[0m, in \u001b[0;36mPageObject.extractText\u001b[0;34m(self)\u001b[0m\n\u001b[1;32m   2593\u001b[0m content \u001b[38;5;241m=\u001b[39m \u001b[38;5;28mself\u001b[39m[\u001b[38;5;124m\"\u001b[39m\u001b[38;5;124m/Contents\u001b[39m\u001b[38;5;124m\"\u001b[39m]\u001b[38;5;241m.\u001b[39mgetObject()\n\u001b[1;32m   2594\u001b[0m \u001b[38;5;28;01mif\u001b[39;00m \u001b[38;5;129;01mnot\u001b[39;00m \u001b[38;5;28misinstance\u001b[39m(content, ContentStream):\n\u001b[0;32m-> 2595\u001b[0m     content \u001b[38;5;241m=\u001b[39m \u001b[43mContentStream\u001b[49m\u001b[43m(\u001b[49m\u001b[43mcontent\u001b[49m\u001b[43m,\u001b[49m\u001b[43m \u001b[49m\u001b[38;5;28;43mself\u001b[39;49m\u001b[38;5;241;43m.\u001b[39;49m\u001b[43mpdf\u001b[49m\u001b[43m)\u001b[49m\n\u001b[1;32m   2596\u001b[0m \u001b[38;5;66;03m# Note: we check all strings are TextStringObjects.  ByteStringObjects\u001b[39;00m\n\u001b[1;32m   2597\u001b[0m \u001b[38;5;66;03m# are strings where the byte->string encoding was unknown, so adding\u001b[39;00m\n\u001b[1;32m   2598\u001b[0m \u001b[38;5;66;03m# them to the text here would be gibberish.\u001b[39;00m\n\u001b[1;32m   2599\u001b[0m \u001b[38;5;28;01mfor\u001b[39;00m operands, operator \u001b[38;5;129;01min\u001b[39;00m content\u001b[38;5;241m.\u001b[39moperations:\n",
      "File \u001b[0;32m/opt/homebrew/lib/python3.10/site-packages/PyPDF2/pdf.py:2674\u001b[0m, in \u001b[0;36mContentStream.__init__\u001b[0;34m(self, stream, pdf)\u001b[0m\n\u001b[1;32m   2672\u001b[0m \u001b[38;5;28;01melse\u001b[39;00m:\n\u001b[1;32m   2673\u001b[0m     stream \u001b[38;5;241m=\u001b[39m BytesIO(b_(stream\u001b[38;5;241m.\u001b[39mgetData()))\n\u001b[0;32m-> 2674\u001b[0m \u001b[38;5;28;43mself\u001b[39;49m\u001b[38;5;241;43m.\u001b[39;49m\u001b[43m__parseContentStream\u001b[49m\u001b[43m(\u001b[49m\u001b[43mstream\u001b[49m\u001b[43m)\u001b[49m\n",
      "File \u001b[0;32m/opt/homebrew/lib/python3.10/site-packages/PyPDF2/pdf.py:2686\u001b[0m, in \u001b[0;36mContentStream.__parseContentStream\u001b[0;34m(self, stream)\u001b[0m\n\u001b[1;32m   2684\u001b[0m stream\u001b[38;5;241m.\u001b[39mseek(\u001b[38;5;241m-\u001b[39m\u001b[38;5;241m1\u001b[39m, \u001b[38;5;241m1\u001b[39m)\n\u001b[1;32m   2685\u001b[0m \u001b[38;5;28;01mif\u001b[39;00m peek\u001b[38;5;241m.\u001b[39misalpha() \u001b[38;5;129;01mor\u001b[39;00m peek \u001b[38;5;241m==\u001b[39m b_(\u001b[38;5;124m\"\u001b[39m\u001b[38;5;124m'\u001b[39m\u001b[38;5;124m\"\u001b[39m) \u001b[38;5;129;01mor\u001b[39;00m peek \u001b[38;5;241m==\u001b[39m b_(\u001b[38;5;124m'\u001b[39m\u001b[38;5;124m\"\u001b[39m\u001b[38;5;124m'\u001b[39m):\n\u001b[0;32m-> 2686\u001b[0m     operator \u001b[38;5;241m=\u001b[39m \u001b[43mutils\u001b[49m\u001b[38;5;241;43m.\u001b[39;49m\u001b[43mreadUntilRegex\u001b[49m\u001b[43m(\u001b[49m\u001b[43mstream\u001b[49m\u001b[43m,\u001b[49m\n\u001b[1;32m   2687\u001b[0m \u001b[43m            \u001b[49m\u001b[43mNameObject\u001b[49m\u001b[38;5;241;43m.\u001b[39;49m\u001b[43mdelimiterPattern\u001b[49m\u001b[43m,\u001b[49m\u001b[43m \u001b[49m\u001b[38;5;28;43;01mTrue\u001b[39;49;00m\u001b[43m)\u001b[49m\n\u001b[1;32m   2688\u001b[0m     \u001b[38;5;28;01mif\u001b[39;00m operator \u001b[38;5;241m==\u001b[39m b_(\u001b[38;5;124m\"\u001b[39m\u001b[38;5;124mBI\u001b[39m\u001b[38;5;124m\"\u001b[39m):\n\u001b[1;32m   2689\u001b[0m         \u001b[38;5;66;03m# begin inline image - a completely different parsing\u001b[39;00m\n\u001b[1;32m   2690\u001b[0m         \u001b[38;5;66;03m# mechanism is required, of course... thanks buddy...\u001b[39;00m\n\u001b[1;32m   2691\u001b[0m         \u001b[38;5;28;01massert\u001b[39;00m operands \u001b[38;5;241m==\u001b[39m []\n",
      "File \u001b[0;32m/opt/homebrew/lib/python3.10/site-packages/PyPDF2/utils.py:135\u001b[0m, in \u001b[0;36mreadUntilRegex\u001b[0;34m(stream, regex, ignore_eof)\u001b[0m\n\u001b[1;32m    133\u001b[0m     \u001b[38;5;28;01melse\u001b[39;00m:\n\u001b[1;32m    134\u001b[0m         \u001b[38;5;28;01mraise\u001b[39;00m PdfStreamError(\u001b[38;5;124m\"\u001b[39m\u001b[38;5;124mStream has ended unexpectedly\u001b[39m\u001b[38;5;124m\"\u001b[39m)\n\u001b[0;32m--> 135\u001b[0m m \u001b[38;5;241m=\u001b[39m \u001b[43mregex\u001b[49m\u001b[38;5;241;43m.\u001b[39;49m\u001b[43msearch\u001b[49m\u001b[43m(\u001b[49m\u001b[43mtok\u001b[49m\u001b[43m)\u001b[49m\n\u001b[1;32m    136\u001b[0m \u001b[38;5;28;01mif\u001b[39;00m m \u001b[38;5;129;01mis\u001b[39;00m \u001b[38;5;129;01mnot\u001b[39;00m \u001b[38;5;28;01mNone\u001b[39;00m:\n\u001b[1;32m    137\u001b[0m     name \u001b[38;5;241m+\u001b[39m\u001b[38;5;241m=\u001b[39m tok[:m\u001b[38;5;241m.\u001b[39mstart()]\n",
      "\u001b[0;31mKeyboardInterrupt\u001b[0m: "
     ]
    }
   ],
   "source": [
    "import PyPDF2\n",
    "\n",
    "def _read_pdf(data: str, source: str) -> str:\n",
    "    text = []\n",
    "    pdf = PyPDF2.PdfFileReader(data)\n",
    "    for page_nr, page in enumerate(range(pdf.getNumPages())):\n",
    "        try:\n",
    "            text.append(pdf.getPage(page).extractText())\n",
    "        except Exception:\n",
    "            logger.info(f\"For {source} page number {page_nr} couldn't be read\")\n",
    "            continue\n",
    "    return (\" \").join(text)\n",
    "\n",
    "\n",
    "file_path = \"/Users/christovis/Documents/InternetGovernance/proj1_3gpp_and_comp/standardization-of-lawful-interception-technologies-in-the-3GPP/data/reference_set/ts_133107v140200p.pdf\"\n",
    "text = _read_pdf(open(file_path, 'rb'), file_path)"
   ]
  },
  {
   "cell_type": "code",
   "execution_count": 4,
   "metadata": {},
   "outputs": [
    {
     "data": {
      "text/plain": [
       "{'\"xuxiaodong@chinamobile.com\" <xuxiaodong@CHINAMOBILE.COM>': \"('xuxiaodong@chinamobile.com', 'xuxiaodong', 'chinamobile.com')\",\n",
       " 'Jacob John <jacobjohn@MOTOROLA.COM>': \"('jacob john', 'jacobjohn', 'motorola.com')\",\n",
       " '\"Wuyuchun (Wu Yuchun, Hisilicon)\" <wuyuchun@HUAWEI.COM>': \"('wuyuchun (wu yuchun, hisilicon)', 'wuyuchun', 'huawei.com')\",\n",
       " 'xingjinqiang@chinamobile.com xingjinqiang@chinamobile.com': \"(null, 'xingjinqiang', 'chinamobile.com')\",\n",
       " 'abdul rasheed m d rasheed@motorola.com': \"('abdul rasheed m d', 'rasheed', 'motorola.com')\",\n",
       " 'fredrik =?utf-8?q?sundstr=c3=b6m?= fredrik.sundstrom@ericsson.com': \"('fredrik =?utf-8?q?sundstr=c3=b6m?=', 'fredrik.sundstrom', 'ericsson.com')\",\n",
       " 'guozhili guozhili@starpointcomm.com': \"('guozhili', 'guozhili', 'starpointcomm.com')\",\n",
       " '=?utf-8?b?runjvc3lvkdnu6flrr4=?= zhangjibin@ecit.org.cn': \"('=?utf-8?b?runjvc3lvkdnu6flrr4=?=', 'zhangjibin', 'ecit.org.cn')\",\n",
       " 'Xueming Pan <<a href=\"/scripts/wa.exe?LOGON=A2%3D3GPP_TSG_RAN%3B82086c35.2012B%26S%3D&amp\" target=\"_parent\">[log in to unmask]</a>> <a href=\"/scripts/wa.exe?LOGON=A2%3D3GPP_TSG_RAN%3B82086c35.2012B%26S%3D&amp\" target=\"_parent\" /a': '(null, null, null)',\n",
       " '\"Yanyali (Yali)\" <yanyali@HUAWEI.COM>, Guchunying <guchunying@HUAWEI.COM>, Ingbert Sigovich <Ingbert.Sigovich@ETSI.ORG>': [{1: ['yanyali (yali)',\n",
       "    'yanyali',\n",
       "    'huawei.com']},\n",
       "  {2: ['guchunying', 'guchunying', 'huawei.com']},\n",
       "  {3: ['ingbert sigovich', 'ingbert.sigovich', 'etsi.org']}]}"
      ]
     },
     "execution_count": 4,
     "metadata": {},
     "output_type": "execute_result"
    }
   ],
   "source": [
    "import yaml\n",
    "\n",
    "filepath = \"/home/christovis/InternetGov/bigbang/tests/data/address_header_test_file.yaml\"\n",
    "with open(filepath, \"r\") as stream:\n",
    "    addresses = yaml.safe_load(stream)\n",
    "    \n",
    "addresses"
   ]
  },
  {
   "cell_type": "code",
   "execution_count": 41,
   "metadata": {},
   "outputs": [
    {
     "name": "stdout",
     "output_type": "stream",
     "text": [
      "['xuxiaodong@chinamobile.com', 'xuxiaodong', 'chinamobile.com']\n",
      "['jacob john', 'jacobjohn', 'motorola.com']\n",
      "['wuyuchun (wu yuchun, hisilicon)', 'wuyuchun', 'huawei.com']\n",
      "['abdul rasheed m d', 'rasheed', 'motorola.com']\n",
      "['fredrik =?utf-8?q?sundstr=c3=b6m?=', 'fredrik.sundstrom', 'ericsson.com']\n",
      "['guozhili', 'guozhili', 'starpointcomm.com']\n",
      "['=?utf-8?b?runjvc3lvkdnu6flrr4=?=', 'zhangjibin', 'ecit.org.cn']\n"
     ]
    }
   ],
   "source": [
    "for key, values in addresses.items():\n",
    "    try:\n",
    "        res = [s.lower() for s in list(values.values())]\n",
    "        print(res)\n",
    "    except:\n",
    "        continue"
   ]
  },
  {
   "cell_type": "code",
   "execution_count": null,
   "metadata": {},
   "outputs": [],
   "source": []
  },
  {
   "cell_type": "code",
   "execution_count": null,
   "metadata": {},
   "outputs": [],
   "source": []
  },
  {
   "cell_type": "code",
   "execution_count": 7,
   "metadata": {},
   "outputs": [],
   "source": [
    "import yaml\n",
    "with open(\"/home/christovis/InternetGov/bigbang/tests/data/address_header_test_file.yaml\", \"r\") as stream:\n",
    "    try:\n",
    "        emails = yaml.safe_load(stream)\n",
    "    except yaml.YAMLError as exc:\n",
    "        print(exc)"
   ]
  },
  {
   "cell_type": "code",
   "execution_count": 24,
   "metadata": {},
   "outputs": [],
   "source": [
    "import bigbang.domain as domain\n",
    "\n",
    "def get_froms(data):\n",
    "    \"\"\"\n",
    "    Returns a dataframe with a row for every message of the archive, containing\n",
    "    column entries for:\n",
    "     - The From field of the email\n",
    "     - The email address extracted from the From field\n",
    "     - The domain of the From field\n",
    "    This dataframe is computed the first time this method is called and then cached.\n",
    "    Returns\n",
    "    ----------\n",
    "    froms: pandas.DataFrame\n",
    "    \"\"\"\n",
    "    emails = data.apply(domain.extract_email)\n",
    "    domains = data.apply(domain.extract_domain)\n",
    "    froms = pd.concat(\n",
    "        [data, emails, domains],\n",
    "        axis=1,\n",
    "        keys=[\"From\", \"email\", \"domain\"],\n",
    "    )\n",
    "    return froms\n",
    "\n",
    "froms = get_froms(pd.Series(list(emails.keys())))"
   ]
  },
  {
   "cell_type": "code",
   "execution_count": null,
   "metadata": {},
   "outputs": [],
   "source": [
    "## mlist_name = \"3GPP_TSG_SA_WG6\"\n",
    "mlist = ListservList.from_mbox(\n",
    "    name=mlist_name,\n",
    "    filepath=f\"/home/christovis/InternetGov/bigbang-archives/3GPP/{mlist_name}.mbox\",\n",
    "    include_body=True,\n",
    ")"
   ]
  },
  {
   "cell_type": "code",
   "execution_count": 30,
   "metadata": {},
   "outputs": [
    {
     "data": {
      "text/plain": [
       "[datetime.datetime(2016, 3, 14, 10, 7, 22, tzinfo=datetime.timezone.utc),\n",
       " datetime.datetime(2017, 2, 27, 8, 4, 27, tzinfo=datetime.timezone.utc)]"
      ]
     },
     "execution_count": 30,
     "metadata": {},
     "output_type": "execute_result"
    }
   ],
   "source": [
    "mlist.period_of_activity()"
   ]
  },
  {
   "cell_type": "code",
   "execution_count": 31,
   "metadata": {},
   "outputs": [
    {
     "data": {
      "text/plain": [
       "{'from': 26}"
      ]
     },
     "execution_count": 31,
     "metadata": {},
     "output_type": "execute_result"
    }
   ],
   "source": [
    "mlist.get_domainscount(header_fields=['from'])"
   ]
  },
  {
   "cell_type": "code",
   "execution_count": 5,
   "metadata": {},
   "outputs": [
    {
     "data": {
      "text/html": [
       "<div>\n",
       "<style scoped>\n",
       "    .dataframe tbody tr th:only-of-type {\n",
       "        vertical-align: middle;\n",
       "    }\n",
       "\n",
       "    .dataframe tbody tr th {\n",
       "        vertical-align: top;\n",
       "    }\n",
       "\n",
       "    .dataframe thead th {\n",
       "        text-align: right;\n",
       "    }\n",
       "</style>\n",
       "<table border=\"1\" class=\"dataframe\">\n",
       "  <thead>\n",
       "    <tr style=\"text-align: right;\">\n",
       "      <th></th>\n",
       "      <th>from</th>\n",
       "      <th>comments-to</th>\n",
       "    </tr>\n",
       "  </thead>\n",
       "  <tbody>\n",
       "    <tr>\n",
       "      <th>0</th>\n",
       "      <td>tomas =?utf-8?q?toftg=c3=a5rd?= &lt;tomas.toftgar...</td>\n",
       "      <td>milan.jelinek@usherbrooke.ca &lt;milan.jelinek@us...</td>\n",
       "    </tr>\n",
       "    <tr>\n",
       "      <th>1</th>\n",
       "      <td>milan jelinek &lt;milan.jelinek@usherbrooke.ca&gt;</td>\n",
       "      <td>tomas =?utf-8?q?toftg=c3=a5rd?= &lt;tomas.toftgar...</td>\n",
       "    </tr>\n",
       "    <tr>\n",
       "      <th>2</th>\n",
       "      <td>tomas =?utf-8?q?toftg=c3=a5rd?= &lt;tomas.toftgar...</td>\n",
       "      <td>imre varga &lt;ivarga@qti.qualcomm.com&gt;</td>\n",
       "    </tr>\n",
       "    <tr>\n",
       "      <th>3</th>\n",
       "      <td>imre varga &lt;ivarga@qti.qualcomm.com&gt;</td>\n",
       "      <td>milan.jelinek@usherbrooke.ca &lt;milan.jelinek@us...</td>\n",
       "    </tr>\n",
       "    <tr>\n",
       "      <th>4</th>\n",
       "      <td>milan jelinek &lt;milan.jelinek@usherbrooke.ca&gt;</td>\n",
       "      <td>imre varga &lt;ivarga@qti.qualcomm.com&gt;</td>\n",
       "    </tr>\n",
       "    <tr>\n",
       "      <th>5</th>\n",
       "      <td>imre varga &lt;ivarga@qti.qualcomm.com&gt;</td>\n",
       "      <td>milan.jelinek@usherbrooke.ca &lt;milan.jelinek@us...</td>\n",
       "    </tr>\n",
       "    <tr>\n",
       "      <th>12</th>\n",
       "      <td>szczerba marek &lt;marek.szczerba@philips.com&gt;</td>\n",
       "      <td>imre varga &lt;ivarga@qti.qualcomm.com&gt;cc: bont f...</td>\n",
       "    </tr>\n",
       "    <tr>\n",
       "      <th>16</th>\n",
       "      <td>huan-yu su &lt;hs@qosound.com&gt;</td>\n",
       "      <td>imre varga &lt;ivarga@qti.qualcomm.com&gt;</td>\n",
       "    </tr>\n",
       "    <tr>\n",
       "      <th>17</th>\n",
       "      <td>multrus markus &lt;markus.multrus@iis.fraunhofer.de&gt;</td>\n",
       "      <td>imre varga &lt;ivarga@qti.qualcomm.com&gt;</td>\n",
       "    </tr>\n",
       "    <tr>\n",
       "      <th>18</th>\n",
       "      <td>stefan =?utf-8?q?d=c3=b6hla?= &lt;stefan.doehla@i...</td>\n",
       "      <td>imre varga &lt;ivarga@qti.qualcomm.com&gt;</td>\n",
       "    </tr>\n",
       "    <tr>\n",
       "      <th>25</th>\n",
       "      <td>milan jelinek &lt;milan.jelinek@usherbrooke.ca&gt;</td>\n",
       "      <td>nikolai leung &lt;nleung@qti.qualcomm.com&gt;</td>\n",
       "    </tr>\n",
       "    <tr>\n",
       "      <th>29</th>\n",
       "      <td>jayeeta saha &lt;jayeeta.saha@3gpp.org&gt;</td>\n",
       "      <td>3gpp_tsg_sa_wg4_sq &lt;3gpp_tsg_sa_wg4_sq@list.et...</td>\n",
       "    </tr>\n",
       "    <tr>\n",
       "      <th>30</th>\n",
       "      <td>jayeeta saha &lt;jayeeta.saha@3gpp.org&gt;</td>\n",
       "      <td>3gpp_tsg_sa_wg4_video &lt;3gpp_tsg_sa_wg4_video@l...</td>\n",
       "    </tr>\n",
       "    <tr>\n",
       "      <th>32</th>\n",
       "      <td>jayeeta saha &lt;jayeeta.saha@3gpp.org&gt;</td>\n",
       "      <td>imre varga &lt;ivarga@qti.qualcomm.com&gt;</td>\n",
       "    </tr>\n",
       "    <tr>\n",
       "      <th>42</th>\n",
       "      <td>jayeeta saha &lt;jayeeta.saha@3gpp.org&gt;</td>\n",
       "      <td>3gpp_tsg_sa_wg4 &lt;3gpp_tsg_sa_wg4@list.etsi.org&gt;</td>\n",
       "    </tr>\n",
       "    <tr>\n",
       "      <th>43</th>\n",
       "      <td>kyunghun jung &lt;kyunghun.jung@samsung.com&gt;</td>\n",
       "      <td>3gpp_tsg_sa_wg4_video@list.etsi.org &lt;3gpp_tsg_...</td>\n",
       "    </tr>\n",
       "    <tr>\n",
       "      <th>44</th>\n",
       "      <td>jayeeta saha &lt;jayeeta.saha@3gpp.org&gt;</td>\n",
       "      <td>3gpp_tsg_sa_wg4_mbs &lt;3gpp_tsg_sa_wg4_mbs@list....</td>\n",
       "    </tr>\n",
       "    <tr>\n",
       "      <th>47</th>\n",
       "      <td>jayeeta saha &lt;jayeeta.saha@3gpp.org&gt;</td>\n",
       "      <td>3gpp_tsg_sa_wg4 &lt;3gpp_tsg_sa_wg4@list.etsi.org...</td>\n",
       "    </tr>\n",
       "    <tr>\n",
       "      <th>48</th>\n",
       "      <td>jayeeta saha &lt;jayeeta.saha@3gpp.org&gt;</td>\n",
       "      <td>3gpp_tsg_sa_wg4_video &lt;3gpp_tsg_sa_wg4_video@l...</td>\n",
       "    </tr>\n",
       "    <tr>\n",
       "      <th>49</th>\n",
       "      <td>jayeeta saha &lt;jayeeta.saha@3gpp.org&gt;</td>\n",
       "      <td>3gpp_tsg_sa_wg4_video &lt;3gpp_tsg_sa_wg4_video@l...</td>\n",
       "    </tr>\n",
       "  </tbody>\n",
       "</table>\n",
       "</div>"
      ],
      "text/plain": [
       "                                                 from  \\\n",
       "0   tomas =?utf-8?q?toftg=c3=a5rd?= <tomas.toftgar...   \n",
       "1        milan jelinek <milan.jelinek@usherbrooke.ca>   \n",
       "2   tomas =?utf-8?q?toftg=c3=a5rd?= <tomas.toftgar...   \n",
       "3                imre varga <ivarga@qti.qualcomm.com>   \n",
       "4        milan jelinek <milan.jelinek@usherbrooke.ca>   \n",
       "5                imre varga <ivarga@qti.qualcomm.com>   \n",
       "12        szczerba marek <marek.szczerba@philips.com>   \n",
       "16                        huan-yu su <hs@qosound.com>   \n",
       "17  multrus markus <markus.multrus@iis.fraunhofer.de>   \n",
       "18  stefan =?utf-8?q?d=c3=b6hla?= <stefan.doehla@i...   \n",
       "25       milan jelinek <milan.jelinek@usherbrooke.ca>   \n",
       "29               jayeeta saha <jayeeta.saha@3gpp.org>   \n",
       "30               jayeeta saha <jayeeta.saha@3gpp.org>   \n",
       "32               jayeeta saha <jayeeta.saha@3gpp.org>   \n",
       "42               jayeeta saha <jayeeta.saha@3gpp.org>   \n",
       "43          kyunghun jung <kyunghun.jung@samsung.com>   \n",
       "44               jayeeta saha <jayeeta.saha@3gpp.org>   \n",
       "47               jayeeta saha <jayeeta.saha@3gpp.org>   \n",
       "48               jayeeta saha <jayeeta.saha@3gpp.org>   \n",
       "49               jayeeta saha <jayeeta.saha@3gpp.org>   \n",
       "\n",
       "                                          comments-to  \n",
       "0   milan.jelinek@usherbrooke.ca <milan.jelinek@us...  \n",
       "1   tomas =?utf-8?q?toftg=c3=a5rd?= <tomas.toftgar...  \n",
       "2                imre varga <ivarga@qti.qualcomm.com>  \n",
       "3   milan.jelinek@usherbrooke.ca <milan.jelinek@us...  \n",
       "4                imre varga <ivarga@qti.qualcomm.com>  \n",
       "5   milan.jelinek@usherbrooke.ca <milan.jelinek@us...  \n",
       "12  imre varga <ivarga@qti.qualcomm.com>cc: bont f...  \n",
       "16               imre varga <ivarga@qti.qualcomm.com>  \n",
       "17               imre varga <ivarga@qti.qualcomm.com>  \n",
       "18               imre varga <ivarga@qti.qualcomm.com>  \n",
       "25            nikolai leung <nleung@qti.qualcomm.com>  \n",
       "29  3gpp_tsg_sa_wg4_sq <3gpp_tsg_sa_wg4_sq@list.et...  \n",
       "30  3gpp_tsg_sa_wg4_video <3gpp_tsg_sa_wg4_video@l...  \n",
       "32               imre varga <ivarga@qti.qualcomm.com>  \n",
       "42    3gpp_tsg_sa_wg4 <3gpp_tsg_sa_wg4@list.etsi.org>  \n",
       "43  3gpp_tsg_sa_wg4_video@list.etsi.org <3gpp_tsg_...  \n",
       "44  3gpp_tsg_sa_wg4_mbs <3gpp_tsg_sa_wg4_mbs@list....  \n",
       "47  3gpp_tsg_sa_wg4 <3gpp_tsg_sa_wg4@list.etsi.org...  \n",
       "48  3gpp_tsg_sa_wg4_video <3gpp_tsg_sa_wg4_video@l...  \n",
       "49  3gpp_tsg_sa_wg4_video <3gpp_tsg_sa_wg4_video@l...  "
      ]
     },
     "execution_count": 5,
     "metadata": {},
     "output_type": "execute_result"
    }
   ],
   "source": [
    "mlist.df[[\"from\", \"comments-to\"]].dropna()"
   ]
  },
  {
   "cell_type": "code",
   "execution_count": 4,
   "metadata": {},
   "outputs": [],
   "source": [
    "file_auth = CONFIG.config_path + \"authentication.yaml\"\n",
    "\n",
    "mlist = ListservList.from_mbox(\n",
    "    name=\"3GPP_TSG_SA_WG4_EVS\",\n",
    "    filepath=CONFIG.test_data_path + \"3GPP_mbox/3GPP_TSG_SA_WG4_EVS.mbox\",\n",
    ")\n",
    "\n",
    "march = ListservArchive.from_mbox(\n",
    "    name=\"3GPP\",\n",
    "    directorypath=CONFIG.test_data_path + \"3GPP_mbox/\",\n",
    "    filedsc=\"3GPP_TSG_*\",\n",
    ")"
   ]
  },
  {
   "cell_type": "code",
   "execution_count": 29,
   "metadata": {},
   "outputs": [
    {
     "data": {
      "text/plain": [
       "array([['tomas =?utf-8?q?toftg=c3=a5rd?= <tomas.toftgard@ericsson.com>'],\n",
       "       ['milan jelinek <milan.jelinek@usherbrooke.ca>'],\n",
       "       ['tomas =?utf-8?q?toftg=c3=a5rd?= <tomas.toftgard@ericsson.com>'],\n",
       "       ['imre varga <ivarga@qti.qualcomm.com>'],\n",
       "       ['milan jelinek <milan.jelinek@usherbrooke.ca>'],\n",
       "       ['imre varga <ivarga@qti.qualcomm.com>'],\n",
       "       ['milan jelinek <milan.jelinek@usherbrooke.ca>'],\n",
       "       ['huan-yu su <hs@qosound.com>'],\n",
       "       ['multrus markus <markus.multrus@iis.fraunhofer.de>'],\n",
       "       ['bruhn stefan <stefan.bruhn@dolby.com>'],\n",
       "       ['huan-yu su <hs@qosound.com>'],\n",
       "       ['bruhn stefan <stefan.bruhn@dolby.com>'],\n",
       "       ['szczerba marek <marek.szczerba@philips.com>'],\n",
       "       ['imre varga <ivarga@qti.qualcomm.com>'],\n",
       "       ['bruhn stefan <stefan.bruhn@dolby.com>'],\n",
       "       ['imre varga <ivarga@qti.qualcomm.com>'],\n",
       "       ['huan-yu su <hs@qosound.com>'],\n",
       "       ['multrus markus <markus.multrus@iis.fraunhofer.de>'],\n",
       "       ['stefan =?utf-8?q?d=c3=b6hla?= <stefan.doehla@iis.fraunhofer.de>'],\n",
       "       ['imre varga <ivarga@qti.qualcomm.com>'],\n",
       "       ['tomas =?utf-8?q?toftg=c3=a5rd?= <tomas.toftgard@ericsson.com>'],\n",
       "       ['huan-yu su <hs@qosound.com>'],\n",
       "       ['huan-yu su <hs@qosound.com>'],\n",
       "       ['nikolai leung <nleung@qti.qualcomm.com>'],\n",
       "       ['imre varga <ivarga@qti.qualcomm.com>'],\n",
       "       ['milan jelinek <milan.jelinek@usherbrooke.ca>'],\n",
       "       ['nikolai leung <nleung@qti.qualcomm.com>'],\n",
       "       ['nikolai leung <nleung@qti.qualcomm.com>'],\n",
       "       ['imre varga <ivarga@qti.qualcomm.com>'],\n",
       "       ['jayeeta saha <jayeeta.saha@3gpp.org>'],\n",
       "       ['jayeeta saha <jayeeta.saha@3gpp.org>'],\n",
       "       ['imre varga <ivarga@qti.qualcomm.com>'],\n",
       "       ['jayeeta saha <jayeeta.saha@3gpp.org>'],\n",
       "       ['imre varga <ivarga@qti.qualcomm.com>'],\n",
       "       ['imre varga <ivarga@qti.qualcomm.com>'],\n",
       "       ['jayeeta saha <jayeeta.saha@3gpp.org>'],\n",
       "       ['jayeeta saha <jayeeta.saha@3gpp.org>'],\n",
       "       ['jayeeta saha <jayeeta.saha@3gpp.org>'],\n",
       "       ['jayeeta saha <jayeeta.saha@3gpp.org>'],\n",
       "       ['jayeeta saha <jayeeta.saha@3gpp.org>'],\n",
       "       ['jayeeta saha <jayeeta.saha@3gpp.org>'],\n",
       "       ['jayeeta saha <jayeeta.saha@3gpp.org>'],\n",
       "       ['jayeeta saha <jayeeta.saha@3gpp.org>'],\n",
       "       ['kyunghun jung <kyunghun.jung@samsung.com>'],\n",
       "       ['jayeeta saha <jayeeta.saha@3gpp.org>'],\n",
       "       ['huan-yu su <hs@qosound.com>'],\n",
       "       ['jayeeta saha <jayeeta.saha@3gpp.org>'],\n",
       "       ['jayeeta saha <jayeeta.saha@3gpp.org>'],\n",
       "       ['jayeeta saha <jayeeta.saha@3gpp.org>'],\n",
       "       ['jayeeta saha <jayeeta.saha@3gpp.org>']], dtype=object)"
      ]
     },
     "execution_count": 29,
     "metadata": {},
     "output_type": "execute_result"
    }
   ],
   "source": [
    "mlist.df[['from']].values"
   ]
  },
  {
   "cell_type": "code",
   "execution_count": 33,
   "metadata": {},
   "outputs": [
    {
     "data": {
      "text/plain": [
       "array(['Re: Information related to EVS SWG Sessions during SA4#115e meeting',\n",
       "       'Information related to EVS SWG Sessions during SA4#115e meeting',\n",
       "       'Information related to EVS SWG Sessions during SA4#114e meeting'],\n",
       "      dtype=object)"
      ]
     },
     "execution_count": 33,
     "metadata": {},
     "output_type": "execute_result"
    }
   ],
   "source": [
    "mlist.crop_by_subject(match=\"EVS SWG Sessions\", place=0).df['subject'].values"
   ]
  },
  {
   "cell_type": "code",
   "execution_count": null,
   "metadata": {},
   "outputs": [],
   "source": []
  }
 ],
 "metadata": {
  "kernelspec": {
   "display_name": "Python 3 (ipykernel)",
   "language": "python",
   "name": "python3"
  },
  "language_info": {
   "codemirror_mode": {
    "name": "ipython",
    "version": 3
   },
   "file_extension": ".py",
   "mimetype": "text/x-python",
   "name": "python",
   "nbconvert_exporter": "python",
   "pygments_lexer": "ipython3",
   "version": "3.10.2"
  }
 },
 "nbformat": 4,
 "nbformat_minor": 4
}
