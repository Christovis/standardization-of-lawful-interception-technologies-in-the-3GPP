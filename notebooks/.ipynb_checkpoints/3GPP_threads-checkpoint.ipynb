{
 "cells": [
  {
   "cell_type": "code",
   "execution_count": 1,
   "id": "changed-evanescence",
   "metadata": {},
   "outputs": [],
   "source": [
    "import time\n",
    "import datetime\n",
    "import pytz\n",
    "import glob\n",
    "import re\n",
    "\n",
    "import numpy as np\n",
    "import pandas as pd\n",
    "\n",
    "import pylab\n",
    "from colour import Color\n",
    "from pylab import cm\n",
    "import matplotlib as mpl\n",
    "import matplotlib.pyplot as plt\n",
    "from matplotlib.pyplot import figure\n",
    "\n",
    "from bigbang.analysis.listserv import ListservMailList\n",
    "from bigbang.visualisation import stackedareachart\n",
    "from bigbang.visualisation import lines\n",
    "from bigbang.visualisation import utils\n",
    "from bigbang.analysis.utils import (\n",
    "    get_index_of_msgs_with_subject,\n",
    "    get_index_of_msgs_with_datetime,\n",
    ")\n",
    "plt.style.use(\"publication_jcap.mplstyle\")"
   ]
  },
  {
   "cell_type": "code",
   "execution_count": 2,
   "id": "brave-kinase",
   "metadata": {},
   "outputs": [],
   "source": [
    "folder_path = \"/home/christovis/InternetGov/proj1_3gpp_and_comp/keywords\"\n",
    "with open(f\"{folder_path}/email_domain_names_china.txt\") as f:\n",
    "    email_domain_names_china = f.readlines()\n",
    "    email_domain_names_china = [l.rstrip('\\n') for l in email_domain_names_china]"
   ]
  },
  {
   "cell_type": "code",
   "execution_count": 3,
   "id": "impaired-jacob",
   "metadata": {},
   "outputs": [],
   "source": [
    "mlist_name = \"3GPP_TSG_SA_WG3_LI\"\n",
    "filepath = f\"/home/christovis/InternetGov/bigbang-archives/3GPP/{mlist_name}.mbox\"\n",
    "mlist = ListservMailList.from_mbox(\n",
    "    name=mlist_name,\n",
    "    filepath=filepath,\n",
    ")"
   ]
  },
  {
   "cell_type": "code",
   "execution_count": 4,
   "id": "suitable-basket",
   "metadata": {},
   "outputs": [
    {
     "data": {
      "text/plain": [
       "5967"
      ]
     },
     "execution_count": 4,
     "metadata": {},
     "output_type": "execute_result"
    }
   ],
   "source": [
    "len(mlist.df.index.values)"
   ]
  },
  {
   "cell_type": "code",
   "execution_count": 5,
   "id": "super-reviewer",
   "metadata": {},
   "outputs": [
    {
     "data": {
      "text/plain": [
       "['Fri, 01 Apr 2005 09:10:26 +0200', 'Wed, 31 Oct 2018 23:45:25 +0000']"
      ]
     },
     "execution_count": 5,
     "metadata": {},
     "output_type": "execute_result"
    }
   ],
   "source": [
    "mlist.period_of_activity()"
   ]
  },
  {
   "cell_type": "code",
   "execution_count": 6,
   "id": "legitimate-horizontal",
   "metadata": {},
   "outputs": [
    {
     "data": {
      "text/plain": [
       "{'from': 114}"
      ]
     },
     "execution_count": 6,
     "metadata": {},
     "output_type": "execute_result"
    }
   ],
   "source": [
    "mlist.get_domainscount(header_fields=['from'])"
   ]
  },
  {
   "cell_type": "code",
   "execution_count": 7,
   "id": "mobile-senegal",
   "metadata": {},
   "outputs": [
    {
     "data": {
      "text/plain": [
       "{'from': 164}"
      ]
     },
     "execution_count": 7,
     "metadata": {},
     "output_type": "execute_result"
    }
   ],
   "source": [
    "mlist.get_localpartscount(header_fields=['from'])"
   ]
  },
  {
   "cell_type": "code",
   "execution_count": 8,
   "id": "moderate-radio",
   "metadata": {},
   "outputs": [],
   "source": [
    "mlist.add_thread_info()"
   ]
  },
  {
   "cell_type": "code",
   "execution_count": 9,
   "id": "authentic-performer",
   "metadata": {},
   "outputs": [
    {
     "data": {
      "image/png": "[encoded data removed]",
      "text/plain": [
       "<Figure size 540x360 with 1 Axes>"
      ]
     },
     "metadata": {},
     "output_type": "display_data"
    }
   ],
   "source": [
    "thread_id, thread_count = np.unique(mlist.df.dropna(subset=['thread'])['thread'].values, return_counts=True)\n",
    "thread_len, thread_len_count = np.unique(thread_count, return_counts=True)\n",
    "\n",
    "plt.scatter(thread_len, thread_len_count)\n",
    "plt.yscale('log')"
   ]
  },
  {
   "cell_type": "code",
   "execution_count": 10,
   "id": "million-format",
   "metadata": {},
   "outputs": [
    {
     "data": {
      "text/html": [
       "<div>\n",
       "<style scoped>\n",
       "    .dataframe tbody tr th:only-of-type {\n",
       "        vertical-align: middle;\n",
       "    }\n",
       "\n",
       "    .dataframe tbody tr th {\n",
       "        vertical-align: top;\n",
       "    }\n",
       "\n",
       "    .dataframe thead th {\n",
       "        text-align: right;\n",
       "    }\n",
       "</style>\n",
       "<table border=\"1\" class=\"dataframe\">\n",
       "  <thead>\n",
       "    <tr style=\"text-align: right;\">\n",
       "      <th></th>\n",
       "      <th>content-transfer-encoding</th>\n",
       "      <th>mime-version</th>\n",
       "      <th>message-id</th>\n",
       "      <th>sender</th>\n",
       "      <th>subject</th>\n",
       "      <th>from</th>\n",
       "      <th>date</th>\n",
       "      <th>content-type</th>\n",
       "      <th>reply-to</th>\n",
       "      <th>archived-at</th>\n",
       "      <th>body</th>\n",
       "      <th>in-reply-to</th>\n",
       "      <th>comments-to</th>\n",
       "      <th>organization</th>\n",
       "      <th>content-disposition</th>\n",
       "      <th>thread</th>\n",
       "    </tr>\n",
       "  </thead>\n",
       "  <tbody>\n",
       "    <tr>\n",
       "      <th>1966</th>\n",
       "      <td>quoted-printable</td>\n",
       "      <td>1.0</td>\n",
       "      <td>&lt;989F32FA-F347-41DD-804C-D2CD6484374A@softelsy...</td>\n",
       "      <td>\"3gpp_tsg_sa_wg3_li:   (tsg sa wg3 lawful inte...</td>\n",
       "      <td>Re: [SA3LI#77e][9.1][S3i200156] MMS Stage 3 fo...</td>\n",
       "      <td>Luke Mewburn &lt;Luke.Mewburn@SOFTELSYSTEMS.COM.AU&gt;</td>\n",
       "      <td>Fri, 24 Apr 2020 02:07:34 +0000</td>\n",
       "      <td>text/plain; charset=\"utf-8\"; Content-Type=\"mul...</td>\n",
       "      <td>Luke Mewburn &lt;Luke.Mewburn@SOFTELSYSTEMS.COM.AU&gt;</td>\n",
       "      <td>&lt;https://list.etsi.org/scripts/wa.exe?A2=3GPP_...</td>\n",
       "      <td>b'Hi Michael,\\n\\nFeedback for Draft_s3i200156-...</td>\n",
       "      <td>&lt;7539C9C2-C485-4ED4-BB6E-645C97E37A26@trideawo...</td>\n",
       "      <td>Michael Bilca &lt;michael@TRIDEAWORKS.COM&gt;</td>\n",
       "      <td>NaN</td>\n",
       "      <td>NaN</td>\n",
       "      <td>493.0</td>\n",
       "    </tr>\n",
       "  </tbody>\n",
       "</table>\n",
       "</div>"
      ],
      "text/plain": [
       "     content-transfer-encoding mime-version  \\\n",
       "1966          quoted-printable          1.0   \n",
       "\n",
       "                                             message-id  \\\n",
       "1966  <989F32FA-F347-41DD-804C-D2CD6484374A@softelsy...   \n",
       "\n",
       "                                                 sender  \\\n",
       "1966  \"3gpp_tsg_sa_wg3_li:   (tsg sa wg3 lawful inte...   \n",
       "\n",
       "                                                subject  \\\n",
       "1966  Re: [SA3LI#77e][9.1][S3i200156] MMS Stage 3 fo...   \n",
       "\n",
       "                                                  from  \\\n",
       "1966  Luke Mewburn <Luke.Mewburn@SOFTELSYSTEMS.COM.AU>   \n",
       "\n",
       "                                 date  \\\n",
       "1966  Fri, 24 Apr 2020 02:07:34 +0000   \n",
       "\n",
       "                                           content-type  \\\n",
       "1966  text/plain; charset=\"utf-8\"; Content-Type=\"mul...   \n",
       "\n",
       "                                              reply-to  \\\n",
       "1966  Luke Mewburn <Luke.Mewburn@SOFTELSYSTEMS.COM.AU>   \n",
       "\n",
       "                                            archived-at  \\\n",
       "1966  <https://list.etsi.org/scripts/wa.exe?A2=3GPP_...   \n",
       "\n",
       "                                                   body  \\\n",
       "1966  b'Hi Michael,\\n\\nFeedback for Draft_s3i200156-...   \n",
       "\n",
       "                                            in-reply-to  \\\n",
       "1966  <7539C9C2-C485-4ED4-BB6E-645C97E37A26@trideawo...   \n",
       "\n",
       "                                  comments-to organization  \\\n",
       "1966  Michael Bilca <michael@TRIDEAWORKS.COM>          NaN   \n",
       "\n",
       "     content-disposition  thread  \n",
       "1966                 NaN   493.0  "
      ]
     },
     "execution_count": 10,
     "metadata": {},
     "output_type": "execute_result"
    }
   ],
   "source": [
    "df = mlist.df\n",
    "df_thread = df[df['thread'] == 493]\n",
    "date_min = df_thread['date'].min()\n",
    "df_thread[df_thread['date'] == date_min]"
   ]
  },
  {
   "cell_type": "code",
   "execution_count": 11,
   "id": "bound-fitting",
   "metadata": {},
   "outputs": [],
   "source": [
    "thread_per_domain = mlist.get_threadsroot(per_address_field='domain')"
   ]
  },
  {
   "cell_type": "code",
   "execution_count": 17,
   "id": "sealed-arizona",
   "metadata": {},
   "outputs": [
    {
     "name": "stdout",
     "output_type": "stream",
     "text": [
      "huawei.com <a0aecab5720c49cb82683e794ac41bab@huawei.com>\n",
      "huawei.com <dcf38232ca524cd5b4385d19f7a2caa1@huawei.com>\n",
      "huawei.com <5ea0772507794e24a756f494817741ad@huawei.com>\n",
      "huawei.com wa.exe?A2=3GPP_TSG_SA_WG3_LI;39f508c7.0812&S=\n",
      "futurewei.com <CY4PR1301MB188050B75CED8BBA41D9DD2BB7F90@CY4PR1301MB1880.namprd13.prod.outlook.com>\n",
      "zte.com.cn wa.exe?A2=3GPP_TSG_SA_WG3_LI;9a3dd90e.0911&S=\n"
     ]
    }
   ],
   "source": [
    "for do, dic in thread_per_domain.items():\n",
    "    if do in email_domain_names_china:\n",
    "        for k, v in dic.items():\n",
    "            print(do, v)"
   ]
  },
  {
   "cell_type": "code",
   "execution_count": 13,
   "id": "large-floating",
   "metadata": {},
   "outputs": [
    {
     "name": "stdout",
     "output_type": "stream",
     "text": [
      "huawei.com 4 dict_values(['<a0aecab5720c49cb82683e794ac41bab@huawei.com>', '<dcf38232ca524cd5b4385d19f7a2caa1@huawei.com>', '<5ea0772507794e24a756f494817741ad@huawei.com>', 'wa.exe?A2=3GPP_TSG_SA_WG3_LI;39f508c7.0812&S='])\n",
      "futurewei.com 1 dict_values(['<CY4PR1301MB188050B75CED8BBA41D9DD2BB7F90@CY4PR1301MB1880.namprd13.prod.outlook.com>'])\n",
      "zte.com.cn 1 dict_values(['wa.exe?A2=3GPP_TSG_SA_WG3_LI;9a3dd90e.0911&S='])\n"
     ]
    }
   ],
   "source": [
    "for domain, thread in thread_per_domain.items():\n",
    "    if domain in email_domain_names_china:\n",
    "        print(domain, len(thread))"
   ]
  },
  {
   "cell_type": "code",
   "execution_count": 14,
   "id": "subjective-upgrade",
   "metadata": {},
   "outputs": [
    {
     "data": {
      "text/plain": [
       "array(['<https://list.etsi.org/scripts/wa.exe?A2=3GPP_TSG_SA_WG3_LI;c325cb3.2004D&S=>'],\n",
       "      dtype=object)"
      ]
     },
     "execution_count": 14,
     "metadata": {},
     "output_type": "execute_result"
    }
   ],
   "source": [
    "mlist.df[mlist.df['message-id'] == '<BN6PR08MB283638BEDACA45DFF04D684894D50@BN6PR08MB2836.namprd08.prod.outlook.com>']['archived-at'].values"
   ]
  },
  {
   "cell_type": "code",
   "execution_count": 18,
   "id": "british-pointer",
   "metadata": {},
   "outputs": [
    {
     "data": {
      "text/plain": [
       "array(['Georg Mayer <georg.mayer@HUAWEI.COM>'], dtype=object)"
      ]
     },
     "execution_count": 18,
     "metadata": {},
     "output_type": "execute_result"
    }
   ],
   "source": [
    "mlist.df[mlist.df['message-id'] == '<a0aecab5720c49cb82683e794ac41bab@huawei.com>']['from'].values"
   ]
  },
  {
   "cell_type": "code",
   "execution_count": 16,
   "id": "awful-tenant",
   "metadata": {},
   "outputs": [
    {
     "ename": "SyntaxError",
     "evalue": "unexpected EOF while parsing (<ipython-input-16-ea1dc7ae07f2>, line 2)",
     "output_type": "error",
     "traceback": [
      "\u001b[0;36m  File \u001b[0;32m\"<ipython-input-16-ea1dc7ae07f2>\"\u001b[0;36m, line \u001b[0;32m2\u001b[0m\n\u001b[0;31m    for _, _, domain in zip(generator\u001b[0m\n\u001b[0m                                     ^\u001b[0m\n\u001b[0;31mSyntaxError\u001b[0m\u001b[0;31m:\u001b[0m unexpected EOF while parsing\n"
     ]
    }
   ],
   "source": [
    "generator = ListservMailList.iterator_name_localpart_domain(mlist.df[\"from\"].values)\n",
    "for _, _, domain in zip(generator"
   ]
  },
  {
   "cell_type": "raw",
   "id": "weird-bolivia",
   "metadata": {},
   "source": [
    "folder = \"/home/christovis/InternetGov/bigbang/examples/organizations\"\n",
    "df_org = pd.read_csv(\n",
    "    f\"{folder}/organization_categories.csv\",\n",
    "    sep=\",\",\n",
    "    header=0,\n",
    "    index_col=False,\n",
    ")\n",
    "df_org[df_org['nationality'] == 'China']['email domain names'].dropna()\n",
    "\n",
    "domain_list = []\n",
    "for domain in df_org[df_org['nationality'] == 'China']['email domain names'].dropna():\n",
    "    if ', ' in domain:\n",
    "        for do in domain.split(','):\n",
    "            domain_list.append(do.strip())\n",
    "    else:\n",
    "        domain_list.append(domain.strip())"
   ]
  }
 ],
 "metadata": {
  "kernelspec": {
   "display_name": "Python 3",
   "language": "python",
   "name": "python3"
  },
  "language_info": {
   "codemirror_mode": {
    "name": "ipython",
    "version": 3
   },
   "file_extension": ".py",
   "mimetype": "text/x-python",
   "name": "python",
   "nbconvert_exporter": "python",
   "pygments_lexer": "ipython3",
   "version": "3.9.7"
  }
 },
 "nbformat": 4,
 "nbformat_minor": 5
}
