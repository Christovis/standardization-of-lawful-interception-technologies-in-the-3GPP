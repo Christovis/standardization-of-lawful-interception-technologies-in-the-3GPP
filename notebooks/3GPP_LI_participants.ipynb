{
 "cells": [
  {
   "cell_type": "code",
   "execution_count": 1,
   "id": "illegal-product",
   "metadata": {},
   "outputs": [],
   "source": [
    "import datetime\n",
    "import pandas as pd\n",
    "import numpy as np\n",
    "from collections import defaultdict\n",
    "from typing import Dict, List, Optional, Tuple, Union\n",
    "\n",
    "import pycountry\n",
    "import networkx as nx\n",
    "\n",
    "from pylab import colorbar\n",
    "from pylab import cm\n",
    "import matplotlib as mpl\n",
    "import matplotlib.pyplot as plt\n",
    "from matplotlib.pyplot import figure\n",
    "import seaborn as sns\n",
    "\n",
    "from bigbang.analysis.listserv import ListservMailList\n",
    "#from bigbang.bigbang_io import pandas_dataframe_to_mbox\n",
    "from bigbang.visualisation import graphs\n",
    "from bigbang.datasets import organizations\n",
    "\n",
    "from tgpp.config.config import CONFIG\n",
    "import tgpp.ingress.queries as Queries\n",
    "from tgpp.ingress import organizations as ORGA\n",
    "\n",
    "plt.style.use(\"./publication_jcap.mplstyle\")"
   ]
  },
  {
   "cell_type": "markdown",
   "id": "d68850c6-d66d-4f86-9960-3a2ab40a2774",
   "metadata": {},
   "source": [
    "## Load data"
   ]
  },
  {
   "cell_type": "code",
   "execution_count": 8,
   "id": "f08ecf6c-450c-4aaf-8dee-7e63201f598d",
   "metadata": {},
   "outputs": [],
   "source": [
    "# Load data on organisations in 3GPP\n",
    "\n",
    "df_orgcat = ORGA.load_data()\n",
    "df_orgcat = ORGA.expand_rows_with_multiple_entries(df_orgcat, column='email domain names')\n",
    "df_orgcat = ORGA.assign_parent_nationality(df_orgcat)\n",
    "df_orgcat = ORGA.remove_leading_and_trailing_whitespaces(df_orgcat)\n",
    "\n",
    "# choose columns of interest\n",
    "df_nation = df_orgcat[[\n",
    "    \"name\",\n",
    "    \"nationality\",\n",
    "    \"email domain names\",\n",
    "]]\n",
    "# filter out all non-empty cells\n",
    "df_nation = df_nation.dropna()\n",
    "\n",
    "# choose columns of interest\n",
    "df_seccat = df_orgcat[[\n",
    "    \"name\",\n",
    "    \"category\",\n",
    "    \"email domain names\",\n",
    "]]\n",
    "# filter out all non-empty cells\n",
    "df_seccat = df_seccat.dropna(subset=[\"category\", \"email domain names\"])\n",
    "df_seccat = ORGA.expand_rows_with_multiple_entries(df_seccat, column='category')"
   ]
  },
  {
   "cell_type": "code",
   "execution_count": 9,
   "id": "f8e33566-adcc-46fb-a26b-d7e94265e1cf",
   "metadata": {},
   "outputs": [
    {
     "name": "stdout",
     "output_type": "stream",
     "text": [
      "6419\n",
      "6415\n"
     ]
    }
   ],
   "source": [
    "# Load Search-set (Sset)\n",
    "mlist_name = \"3GPP_TSG_SA_WG3_LI\"\n",
    "\n",
    "folder_search_set = '/Users/christovis/Documents/InternetGovernance/bigbang-archive/3GPP/'\n",
    "sset_mlist = ListservMailList.from_mbox(\n",
    "    name=mlist_name,\n",
    "    #filepath=CONFIG.folder_search_set + f\"{mlist_name}.mbox\",\n",
    "    filepath=folder_search_set + f\"{mlist_name}.mbox\",\n",
    ")\n",
    "init_sset_mlist_len = len(sset_mlist)\n",
    "print(init_sset_mlist_len)\n",
    "\n",
    "# only keep rows that have the header field 'from'\n",
    "sset_mlist.df = sset_mlist.df.dropna(subset=['from'])\n",
    "\n",
    "# only keep rows that have the header field 'date'\n",
    "#mlist.df = mlist.df.dropna(subset=['date'])\n",
    "\n",
    "sset_mlist.df['date'] = pd.to_datetime(sset_mlist.df['date'], format=\"%a, %d %b %Y %H:%M:%S %z\", errors=\"coerce\")\n",
    "print(len(sset_mlist))\n",
    "\n",
    "year_of_first_msg = np.min(sset_mlist.period_of_activity()).year\n",
    "year_of_last_msg = np.max(sset_mlist.period_of_activity()).year"
   ]
  },
  {
   "cell_type": "code",
   "execution_count": 10,
   "id": "5a734ab4-c5c7-4502-a283-d021be129425",
   "metadata": {},
   "outputs": [
    {
     "name": "stdout",
     "output_type": "stream",
     "text": [
      "S-set: 2000-09-06 06:45:22-07:00 2022-02-26 14:29:06+00:00\n"
     ]
    }
   ],
   "source": [
    "print(\n",
    "    \"S-set:\",\n",
    "    np.min(sset_mlist.period_of_activity()),\n",
    "    np.max(sset_mlist.period_of_activity()),\n",
    ")"
   ]
  },
  {
   "cell_type": "code",
   "execution_count": 11,
   "id": "d974d276-d6a9-46be-b203-77b011d8516c",
   "metadata": {},
   "outputs": [
    {
     "name": "stdout",
     "output_type": "stream",
     "text": [
      "3177\n",
      "3177\n"
     ]
    }
   ],
   "source": [
    "# Load Target-set\n",
    "\n",
    "mlist_name = \"3GPP_TSG_SA_WG3_LI\"\n",
    "\n",
    "# load target-set (Tset)\n",
    "tset_df = pd.read_hdf(\n",
    "    CONFIG.folder_target_set + f\"{mlist_name}.h5\",\n",
    "    key=\"df\",\n",
    "    header=0,\n",
    "    index_col=0,\n",
    ")\n",
    "\n",
    "non_query_columns = [col for col in tset_df.columns if col.startswith('msg-')]\n",
    "tset_df = tset_df.loc[:, tset_df.columns.isin(non_query_columns)]\n",
    "relable = {col: col.replace('msg-', '') for col in tset_df.columns}\n",
    "tset_df = tset_df.rename(columns=relable, errors=\"raise\")\n",
    "\n",
    "tset_mlist = ListservMailList.from_pandas_dataframe(\n",
    "    df=tset_df,\n",
    "    name=mlist_name,\n",
    "    filepath=CONFIG.folder_target_set + f\"{mlist_name}.h5\",\n",
    ")\n",
    "init_tset_mlist_len = len(tset_mlist)\n",
    "print(init_tset_mlist_len)\n",
    "\n",
    "# only keep rows that have the header field 'from'\n",
    "tset_mlist.df = tset_mlist.df.dropna(subset=['from'])\n",
    "\n",
    "# only keep rows that have the header field 'date'\n",
    "#tset_mlist.df = tset_mlist.df.dropna(subset=['date'])\n",
    "\n",
    "tset_mlist.df['date'] = pd.to_datetime(\n",
    "    tset_mlist.df['date'],\n",
    "    format=\"%a, %d %b %Y %H:%M:%S %z\",\n",
    "    errors=\"coerce\",\n",
    ")\n",
    "print(len(tset_mlist))\n",
    "\n",
    "year_of_first_msg = np.min(tset_mlist.period_of_activity()).year\n",
    "year_of_last_msg = np.max(tset_mlist.period_of_activity()).year"
   ]
  },
  {
   "cell_type": "code",
   "execution_count": 12,
   "id": "4c5997e4-769f-4209-a52c-956a42a62536",
   "metadata": {},
   "outputs": [
    {
     "name": "stdout",
     "output_type": "stream",
     "text": [
      "T-set: 2000-09-06 06:45:22-07:00 2022-02-26 14:29:06+00:00\n"
     ]
    }
   ],
   "source": [
    "print(\n",
    "    \"T-set:\",\n",
    "    np.min(sset_mlist.period_of_activity()),\n",
    "    np.max(sset_mlist.period_of_activity()),\n",
    ")"
   ]
  },
  {
   "cell_type": "code",
   "execution_count": 13,
   "id": "83a0fe55-f7ee-4f02-8a26-6106966814ae",
   "metadata": {},
   "outputs": [],
   "source": [
    "# Select to analyse T-set or S-set\n",
    "set_lable = 'tset'\n",
    "mlist = tset_mlist"
   ]
  },
  {
   "cell_type": "raw",
   "id": "3e95c156-6fbe-4f4b-b114-74d085dc50f3",
   "metadata": {},
   "source": [
    "eif_mlist = tset_mlist.crop_by_address(\n",
    "    header_field='comments-to',\n",
    "    per_address_field={'domain': ['trideaworks.com']}\n",
    ").df\n",
    "eif_mlist['archived-at'].values"
   ]
  },
  {
   "cell_type": "markdown",
   "id": "18c7a124-f399-448a-9f78-12aa9d9d1463",
   "metadata": {},
   "source": [
    "## Add Nationality, Category, Stakeholder to Email Sender"
   ]
  },
  {
   "cell_type": "code",
   "execution_count": 14,
   "id": "2f26d95a-ea20-46ca-b296-889292344720",
   "metadata": {},
   "outputs": [],
   "source": [
    "# Add stakeholdergroup to sender\n",
    "\n",
    "mlist.df['from_category'] = 'Unkown'\n",
    "for idx, row in mlist.df.iterrows():\n",
    "    _, _, domain = ListservMailList.get_name_localpart_domain(row['from'])\n",
    "    category = df_seccat[df_seccat['email domain names'] == domain]['category'].values\n",
    "    if len(category) > 0:\n",
    "        try:\n",
    "            mlist.df.loc[idx, 'from_category'] = category[0].strip()\n",
    "        except:\n",
    "            print(idx, category)"
   ]
  },
  {
   "cell_type": "code",
   "execution_count": 15,
   "id": "4e02d4cf-cac5-4ded-a0cc-ae005ed1ad62",
   "metadata": {},
   "outputs": [],
   "source": [
    "# Add stakeholdergroup to sender\n",
    "\n",
    "mlist.df['from_stakeholdergroup'] = 'Unkown'\n",
    "for idx, row in mlist.df.iterrows():\n",
    "    _, _, domain = ListservMailList.get_name_localpart_domain(row['from'])\n",
    "    stakeholdergroup = df_orgcat[df_orgcat['email domain names'] == domain]['stakeholdergroup'].values\n",
    "    if len(stakeholdergroup) > 0:\n",
    "        try:\n",
    "            mlist.df.loc[idx, 'from_stakeholdergroup'] = stakeholdergroup[0].strip()\n",
    "        except:\n",
    "            continue\n",
    "        #print(idx, stakeholdergroup)"
   ]
  },
  {
   "cell_type": "code",
   "execution_count": 16,
   "id": "a43fa33a-d69e-4bf5-85ed-79a883520617",
   "metadata": {},
   "outputs": [],
   "source": [
    "# Add nationality to sender in\n",
    "\n",
    "mlist.df['from_nationality'] = 'Unkown'\n",
    "for idx, row in mlist.df.iterrows():\n",
    "    #print(row['from'])\n",
    "    _, _, domain = ListservMailList.get_name_localpart_domain(row['from'])\n",
    "    nationality = df_nation[df_nation['email domain names'] == domain]['nationality'].values\n",
    "    if len(nationality) > 0:\n",
    "        try:\n",
    "            mlist.df.loc[idx, 'from_nationality'] = nationality[0].strip()\n",
    "        except:\n",
    "            print(idx, nationality, nationality[0])"
   ]
  },
  {
   "cell_type": "code",
   "execution_count": 17,
   "id": "bbe8b250-954c-4b4a-bdbf-4991c265d406",
   "metadata": {},
   "outputs": [],
   "source": [
    "mlist_1 = mlist.crop_by_year(yrs=[2000, 2020])\n",
    "mlist_2 = mlist.crop_by_year(yrs=[2020, 2022])"
   ]
  },
  {
   "cell_type": "markdown",
   "id": "e89965ad-138e-4f1c-b8ac-a55ecf69ec99",
   "metadata": {},
   "source": [
    "## Domain Graph"
   ]
  },
  {
   "cell_type": "code",
   "execution_count": 19,
   "id": "108a79b4-7722-42b8-8363-72b4ea866236",
   "metadata": {},
   "outputs": [],
   "source": [
    "localparts = mlist.get_messagescount(\n",
    "    header_fields=['from'],\n",
    "    per_address_field=['localpart'],\n",
    "    per_year=False,\n",
    ")['from']"
   ]
  },
  {
   "cell_type": "code",
   "execution_count": 22,
   "id": "d8e81f34-0993-4177-bb77-5441e5cd8547",
   "metadata": {},
   "outputs": [],
   "source": [
    "indices = np.argsort(list(localparts.values()))\n",
    "localparts = {list(localparts.keys())[idx]: list(localparts.values())[idx] for idx in indices}"
   ]
  },
  {
   "cell_type": "code",
   "execution_count": 25,
   "id": "31d24bb5-4e6f-456b-9661-65d9daf6c681",
   "metadata": {},
   "outputs": [
    {
     "data": {
      "text/plain": [
       "{'3gpplist': 1,\n",
       " 'dionisio.zumerle': 1,\n",
       " 'peter.musgrove': 1,\n",
       " 'nalfano': 1,\n",
       " 'mark.lastdrager': 1,\n",
       " 'sven.jonas': 1,\n",
       " 'frank.fransen': 1,\n",
       " 'erich.seitz': 1,\n",
       " 'john.cundall': 1,\n",
       " 'frank.korinek': 1,\n",
       " 'arkady_linshitz': 1,\n",
       " 'sarah.werner': 1,\n",
       " 'pauljbaxter': 1,\n",
       " 'schramp': 1,\n",
       " 'ian.cooper': 1,\n",
       " 'martin.kaessens': 1,\n",
       " 'jerome.gouy': 1,\n",
       " 'claudio1.fusco': 1,\n",
       " 'ingjo': 1,\n",
       " 'gary.jones': 1,\n",
       " 'peter.howard': 1,\n",
       " 'brian.marcus': 1,\n",
       " 'jerry.shih': 1,\n",
       " 'ramantha': 1,\n",
       " 'jmenard': 1,\n",
       " 'etsi': 1,\n",
       " 'arkadyl': 1,\n",
       " 'herbert.paulis': 1,\n",
       " 'janos.varro': 1,\n",
       " 'jean': 1,\n",
       " 'tobias.schoenberg': 2,\n",
       " 'rolf.schnitzler': 2,\n",
       " 'rainer.landgraf': 2,\n",
       " 'michael.clayton': 2,\n",
       " 'robert.ropolyi': 2,\n",
       " 'mwong': 2,\n",
       " 'rhys.arkins': 2,\n",
       " 'erwin.foerster': 2,\n",
       " 'peter.vanderarend': 2,\n",
       " 'sedge': 2,\n",
       " 'arjunrc': 2,\n",
       " 'itsuma.tanaka.ev': 3,\n",
       " 'leopold.murhammer': 3,\n",
       " 'dusty.hoffpauir': 3,\n",
       " 'srengasa': 3,\n",
       " 'muraliv': 3,\n",
       " 'alexander.retzel': 4,\n",
       " 'bernie_mckibben-p17982': 4,\n",
       " 'michael.hammer': 4,\n",
       " 'ben.j.mitchell': 5,\n",
       " 'sts.standards': 5,\n",
       " 'mark': 5,\n",
       " 'maurice.pope': 5,\n",
       " 'scott.sheets': 5,\n",
       " 'tony': 5,\n",
       " 'p17982': 6,\n",
       " 'lonnie.mitchell': 6,\n",
       " 'chsharp': 6,\n",
       " 'johande': 6,\n",
       " 'kwadhwa': 6,\n",
       " 'alf.zugenmaier': 7,\n",
       " 'leonti.dailis': 7,\n",
       " 'trutkowski': 7,\n",
       " 'donyhe': 7,\n",
       " 'p.c.j.vanderarend': 7,\n",
       " 'adrian.escott': 7,\n",
       " 'stefan.bjornson': 8,\n",
       " 'olivier.dubuisson': 8,\n",
       " 'scott.cadzow': 8,\n",
       " 'nicolas.chuberre': 9,\n",
       " 'tim90727': 11,\n",
       " 'ed.oleary': 11,\n",
       " 'robin.gape': 11,\n",
       " 'william.w.wong': 12,\n",
       " 'martin.kissel': 13,\n",
       " 'uri.baniel': 13,\n",
       " 'te22': 14,\n",
       " 'gerald.mcquaid': 14,\n",
       " 'michael.eisenschmid': 15,\n",
       " 'lionel.thual': 17,\n",
       " 'eric.meilleray': 17,\n",
       " 'inaki.martinsoroa': 18,\n",
       " 'paul.j.baxter': 20,\n",
       " 'mats.naslund': 20,\n",
       " 'laurent.perrine': 23,\n",
       " 'kai.sjoblom': 24,\n",
       " 'jeff.gray': 26,\n",
       " 'bernhard.spalt': 29,\n",
       " 'pierre.truong': 30,\n",
       " 'mirko.cano': 31,\n",
       " 'tyler.hawbaker': 34,\n",
       " 'manfred.beierer': 35,\n",
       " 'cm8655': 36,\n",
       " 'm.lutz': 37,\n",
       " 'gregory.schumacher': 39,\n",
       " 'brye.bonner': 43,\n",
       " 'li.stds2010': 45,\n",
       " 'jean-pascal.chavanne': 51,\n",
       " 'joachim.mueller2': 51,\n",
       " 'selvam': 58,\n",
       " 'carmine.rizzo': 58,\n",
       " 'steije.vanschelt': 70,\n",
       " 'luke.mewburn': 70,\n",
       " 'kbj': 74,\n",
       " 'michael': 77,\n",
       " 'rryan': 96,\n",
       " 'giorgi.gulbani': 111,\n",
       " 'pierre.courbon': 119,\n",
       " 'alexander.markman': 126,\n",
       " 'maurizio.iovieno': 150,\n",
       " 'alex.leadbeater': 165,\n",
       " 'jason.graham': 195,\n",
       " 'markc': 318,\n",
       " 'nagaraja.rao': 536}"
      ]
     },
     "execution_count": 25,
     "metadata": {},
     "output_type": "execute_result"
    }
   ],
   "source": [
    "localparts"
   ]
  },
  {
   "cell_type": "code",
   "execution_count": null,
   "id": "d416b17f-89a6-466f-8aa4-edbb01914558",
   "metadata": {},
   "outputs": [],
   "source": []
  }
 ],
 "metadata": {
  "kernelspec": {
   "display_name": "Python 3 (ipykernel)",
   "language": "python",
   "name": "python3"
  },
  "language_info": {
   "codemirror_mode": {
    "name": "ipython",
    "version": 3
   },
   "file_extension": ".py",
   "mimetype": "text/x-python",
   "name": "python",
   "nbconvert_exporter": "python",
   "pygments_lexer": "ipython3",
   "version": "3.10.2"
  }
 },
 "nbformat": 4,
 "nbformat_minor": 5
}
